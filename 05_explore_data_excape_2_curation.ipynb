{
  "nbformat": 4,
  "nbformat_minor": 0,
  "metadata": {
    "extensions": {
      "jupyter_dashboards": {
        "activeView": "report_default",
        "version": 1,
        "views": {
          "grid_default": {
            "cellMargin": 10,
            "defaultCellHeight": 20,
            "maxColumns": 12,
            "name": "grid",
            "type": "grid"
          },
          "report_default": {
            "name": "report",
            "type": "report"
          }
        }
      }
    },
    "kernelspec": {
      "display_name": "Python 3",
      "language": "python",
      "name": "python3"
    },
    "language_info": {
      "codemirror_mode": {
        "name": "ipython",
        "version": 3
      },
      "file_extension": ".py",
      "mimetype": "text/x-python",
      "name": "python",
      "nbconvert_exporter": "python",
      "pygments_lexer": "ipython3",
      "version": "3.7.6"
    },
    "colab": {
      "name": "05_explore_data_excape_2_curation.ipynb",
      "provenance": [],
      "collapsed_sections": [],
      "toc_visible": true,
      "include_colab_link": true
    },
    "accelerator": "GPU"
  },
  "cells": [
    {
      "cell_type": "markdown",
      "metadata": {
        "id": "view-in-github",
        "colab_type": "text"
      },
      "source": [
        "<a href=\"https://colab.research.google.com/github/ravichas/AMPL/blob/master/05_explore_data_excape_2_curation.ipynb\" target=\"_parent\"><img src=\"https://colab.research.google.com/assets/colab-badge.svg\" alt=\"Open In Colab\"/></a>"
      ]
    },
    {
      "cell_type": "markdown",
      "metadata": {
        "id": "wus-BNETC5qB"
      },
      "source": [
        "# Data curation of HTR3A protein data from ExCAPE-DB Data\r\n",
        "\r\n",
        "The Target specific data was downloaded from https://zenodo.org/record/173258#.X_44kuhKi70\r\n",
        "\r\n",
        "Please refer to the ExCAPE-DB publication (https://pubmed.ncbi.nlm.nih.gov/28316655/) for details about the database \r\n",
        "\r\n",
        "\r\n"
      ]
    },
    {
      "cell_type": "markdown",
      "metadata": {
        "id": "XORxdddjGOFZ"
      },
      "source": [
        "Here are some details about HTR3A gene (taken from RefSeq NCBI)\r\n",
        "*The product of this gene belongs to the ligand-gated ion channel receptor superfamily. This gene encodes subunit A of the type 3 receptor for 5-hydroxytryptamine (serotonin), a biogenic hormone that functions as a neurotransmitter, a hormone, and a mitogen. This receptor causes fast, depolarizing responses in neurons after activation. It appears that the heteromeric combination of A and B subunits is necessary to provide the full functional features of this receptor, since either subunit alone results in receptors with very low conductance and response amplitude. Alternatively spliced transcript variants encoding different isoforms have been identified.*"
      ]
    },
    {
      "cell_type": "markdown",
      "metadata": {
        "id": "sedOu56IHE_I"
      },
      "source": [
        "Diseases associated with HTR3A include Irritable Bowel Syndrome and Motion Sickness."
      ]
    },
    {
      "cell_type": "markdown",
      "metadata": {
        "id": "IAwDBUgiMT_F"
      },
      "source": [
        "## Basic information about HTR3A gene:\r\n",
        "\r\n",
        "**Present in** Chromosome 11\r\n",
        "**Exon count:** 10\r\n",
        "\r\n",
        "mRNA and protein information\r\n",
        "\r\n",
        "*   NM_000869.6 → NP_000860.3 \r\n",
        "*   NM_001161772.3 → NP_001155244.1\r\n",
        "*   NM_213621.4 → NP_998786.3 "
      ]
    },
    {
      "cell_type": "markdown",
      "metadata": {
        "id": "ThWpRE-KfBZB"
      },
      "source": [
        "# Before you begin, make sure you close all other COLAB notebooks. "
      ]
    },
    {
      "cell_type": "markdown",
      "metadata": {
        "id": "wDJc1Nu7fVy4"
      },
      "source": [
        "# Change Runtime settings\r\n",
        "\r\n",
        "## Plesae change your runtime settings to use GPU and high-memory, if you have \r\n",
        "\r\n",
        "## Runtime --> Change Runtime Type --> GPU wityh high-RAM"
      ]
    },
    {
      "cell_type": "markdown",
      "metadata": {
        "id": "pPHPLDddQJw3"
      },
      "source": [
        "## Install AMPL GPU version. \r\n",
        "\r\n",
        "```\r\n",
        "real\t2m59.739s\r\n",
        "user\t1m48.995s\r\n",
        "sys\t0m20.614s\r\n",
        "```"
      ]
    },
    {
      "cell_type": "code",
      "metadata": {
        "colab": {
          "base_uri": "https://localhost:8080/"
        },
        "id": "1qHVGG27P_I4",
        "outputId": "6a7ad5c4-3e51-4cc9-8130-2bcbfb0a1b7b"
      },
      "source": [
        "import requests\r\n",
        "\r\n",
        "# Copy AMPL install script\r\n",
        "url='https://raw.githubusercontent.com/ravichas/AMPL-Tutorial/master/config/install_AMPL_GPU.sh'\r\n",
        "\r\n",
        "downloaded_obj = requests.get(url)\r\n",
        "with open(\"install_AMPL_GPU.sh\", \"wb\") as file:\r\n",
        "    file.write(downloaded_obj.content)\r\n",
        "\r\n",
        "\r\n",
        "# Install and load AMPL\r\n",
        "!chmod u+x install_AMPL_GPU.sh\r\n",
        "!time ./install_AMPL_GPU.sh\r\n",
        "import sys\r\n",
        "if '/content/AMPL/lib/python3.6/site-packages' not in sys.path:\r\n",
        "    sys.path.insert(1, '/content/AMPL/lib/python3.6/site-packages')"
      ],
      "execution_count": null,
      "outputs": [
        {
          "output_type": "stream",
          "text": [
            "--2021-01-15 00:34:14--  https://repo.anaconda.com/miniconda/Miniconda3-latest-Linux-x86_64.sh\n",
            "Resolving repo.anaconda.com (repo.anaconda.com)... 104.16.130.3, 104.16.131.3, 2606:4700::6810:8303, ...\n",
            "Connecting to repo.anaconda.com (repo.anaconda.com)|104.16.130.3|:443... connected.\n",
            "HTTP request sent, awaiting response... 200 OK\n",
            "Length: 94235922 (90M) [application/x-sh]\n",
            "Saving to: ‘Miniconda3-latest-Linux-x86_64.sh’\n",
            "\n",
            "Miniconda3-latest-L 100%[===================>]  89.87M  30.8MB/s    in 2.9s    \n",
            "\n",
            "2021-01-15 00:34:17 (30.8 MB/s) - ‘Miniconda3-latest-Linux-x86_64.sh’ saved [94235922/94235922]\n",
            "\n",
            "PREFIX=/content/AMPL\n",
            "Unpacking payload ...\n",
            "Collecting package metadata (current_repodata.json): - \b\b\\ \b\b| \b\bdone\n",
            "Solving environment: - \b\b\\ \b\bdone\n",
            "\n",
            "## Package Plan ##\n",
            "\n",
            "  environment location: /content/AMPL\n",
            "\n",
            "  added / updated specs:\n",
            "    - _libgcc_mutex==0.1=main\n",
            "    - brotlipy==0.7.0=py38h27cfd23_1003\n",
            "    - ca-certificates==2020.10.14=0\n",
            "    - certifi==2020.6.20=pyhd3eb1b0_3\n",
            "    - cffi==1.14.3=py38h261ae71_2\n",
            "    - chardet==3.0.4=py38h06a4308_1003\n",
            "    - conda-package-handling==1.7.2=py38h03888b9_0\n",
            "    - conda==4.9.2=py38h06a4308_0\n",
            "    - cryptography==3.2.1=py38h3c74f83_1\n",
            "    - idna==2.10=py_0\n",
            "    - ld_impl_linux-64==2.33.1=h53a641e_7\n",
            "    - libedit==3.1.20191231=h14c3975_1\n",
            "    - libffi==3.3=he6710b0_2\n",
            "    - libgcc-ng==9.1.0=hdf63c60_0\n",
            "    - libstdcxx-ng==9.1.0=hdf63c60_0\n",
            "    - ncurses==6.2=he6710b0_1\n",
            "    - openssl==1.1.1h=h7b6447c_0\n",
            "    - pip==20.2.4=py38h06a4308_0\n",
            "    - pycosat==0.6.3=py38h7b6447c_1\n",
            "    - pycparser==2.20=py_2\n",
            "    - pyopenssl==19.1.0=pyhd3eb1b0_1\n",
            "    - pysocks==1.7.1=py38h06a4308_0\n",
            "    - python==3.8.5=h7579374_1\n",
            "    - readline==8.0=h7b6447c_0\n",
            "    - requests==2.24.0=py_0\n",
            "    - ruamel_yaml==0.15.87=py38h7b6447c_1\n",
            "    - setuptools==50.3.1=py38h06a4308_1\n",
            "    - six==1.15.0=py38h06a4308_0\n",
            "    - sqlite==3.33.0=h62c20be_0\n",
            "    - tk==8.6.10=hbc83047_0\n",
            "    - tqdm==4.51.0=pyhd3eb1b0_0\n",
            "    - urllib3==1.25.11=py_0\n",
            "    - wheel==0.35.1=pyhd3eb1b0_0\n",
            "    - xz==5.2.5=h7b6447c_0\n",
            "    - yaml==0.2.5=h7b6447c_0\n",
            "    - zlib==1.2.11=h7b6447c_3\n",
            "\n",
            "\n",
            "The following NEW packages will be INSTALLED:\n",
            "\n",
            "  _libgcc_mutex      pkgs/main/linux-64::_libgcc_mutex-0.1-main\n",
            "  brotlipy           pkgs/main/linux-64::brotlipy-0.7.0-py38h27cfd23_1003\n",
            "  ca-certificates    pkgs/main/linux-64::ca-certificates-2020.10.14-0\n",
            "  certifi            pkgs/main/noarch::certifi-2020.6.20-pyhd3eb1b0_3\n",
            "  cffi               pkgs/main/linux-64::cffi-1.14.3-py38h261ae71_2\n",
            "  chardet            pkgs/main/linux-64::chardet-3.0.4-py38h06a4308_1003\n",
            "  conda              pkgs/main/linux-64::conda-4.9.2-py38h06a4308_0\n",
            "  conda-package-han~ pkgs/main/linux-64::conda-package-handling-1.7.2-py38h03888b9_0\n",
            "  cryptography       pkgs/main/linux-64::cryptography-3.2.1-py38h3c74f83_1\n",
            "  idna               pkgs/main/noarch::idna-2.10-py_0\n",
            "  ld_impl_linux-64   pkgs/main/linux-64::ld_impl_linux-64-2.33.1-h53a641e_7\n",
            "  libedit            pkgs/main/linux-64::libedit-3.1.20191231-h14c3975_1\n",
            "  libffi             pkgs/main/linux-64::libffi-3.3-he6710b0_2\n",
            "  libgcc-ng          pkgs/main/linux-64::libgcc-ng-9.1.0-hdf63c60_0\n",
            "  libstdcxx-ng       pkgs/main/linux-64::libstdcxx-ng-9.1.0-hdf63c60_0\n",
            "  ncurses            pkgs/main/linux-64::ncurses-6.2-he6710b0_1\n",
            "  openssl            pkgs/main/linux-64::openssl-1.1.1h-h7b6447c_0\n",
            "  pip                pkgs/main/linux-64::pip-20.2.4-py38h06a4308_0\n",
            "  pycosat            pkgs/main/linux-64::pycosat-0.6.3-py38h7b6447c_1\n",
            "  pycparser          pkgs/main/noarch::pycparser-2.20-py_2\n",
            "  pyopenssl          pkgs/main/noarch::pyopenssl-19.1.0-pyhd3eb1b0_1\n",
            "  pysocks            pkgs/main/linux-64::pysocks-1.7.1-py38h06a4308_0\n",
            "  python             pkgs/main/linux-64::python-3.8.5-h7579374_1\n",
            "  readline           pkgs/main/linux-64::readline-8.0-h7b6447c_0\n",
            "  requests           pkgs/main/noarch::requests-2.24.0-py_0\n",
            "  ruamel_yaml        pkgs/main/linux-64::ruamel_yaml-0.15.87-py38h7b6447c_1\n",
            "  setuptools         pkgs/main/linux-64::setuptools-50.3.1-py38h06a4308_1\n",
            "  six                pkgs/main/linux-64::six-1.15.0-py38h06a4308_0\n",
            "  sqlite             pkgs/main/linux-64::sqlite-3.33.0-h62c20be_0\n",
            "  tk                 pkgs/main/linux-64::tk-8.6.10-hbc83047_0\n",
            "  tqdm               pkgs/main/noarch::tqdm-4.51.0-pyhd3eb1b0_0\n",
            "  urllib3            pkgs/main/noarch::urllib3-1.25.11-py_0\n",
            "  wheel              pkgs/main/noarch::wheel-0.35.1-pyhd3eb1b0_0\n",
            "  xz                 pkgs/main/linux-64::xz-5.2.5-h7b6447c_0\n",
            "  yaml               pkgs/main/linux-64::yaml-0.2.5-h7b6447c_0\n",
            "  zlib               pkgs/main/linux-64::zlib-1.2.11-h7b6447c_3\n",
            "\n",
            "\n",
            "Preparing transaction: / \b\b- \b\b\\ \b\b| \b\bdone\n",
            "Executing transaction: - \b\b\\ \b\b| \b\b/ \b\b- \b\b\\ \b\b| \b\b/ \b\b- \b\b\\ \b\b| \b\b/ \b\bdone\n",
            "installation finished.\n",
            "WARNING:\n",
            "    You currently have a PYTHONPATH environment variable set. This may cause\n",
            "    unexpected behavior when running the Python interpreter in Miniconda3.\n",
            "    For best results, please verify that your PYTHONPATH only points to\n",
            "    directories of packages that are compatible with the Python interpreter\n",
            "    in Miniconda3: /content/AMPL\n",
            "\n",
            "Downloading and Extracting Packages\n",
            "_libgcc_mutex-0.1    | : 100% 1.0/1 [00:00<00:00,  6.12it/s]\n",
            "ca-certificates-2020 | : 100% 1.0/1 [00:00<00:00, 14.22it/s]\n",
            "cudatoolkit-9.0      | : 100% 1.0/1 [00:06<00:00,  6.50s/it]               \n",
            "fftw3f-3.3.4         | : 100% 1.0/1 [00:01<00:00,  1.41s/it]\n",
            "libgfortran-3.0.0    | : 100% 1.0/1 [00:00<00:00, 12.54it/s]\n",
            "libgfortran-ng-7.5.0 | : 100% 1.0/1 [00:00<00:00,  3.03it/s]\n",
            "libstdcxx-ng-9.2.0   | : 100% 1.0/1 [00:00<00:00,  1.43it/s]\n",
            "pandoc-2.9.2.1       | : 100% 1.0/1 [00:04<00:00,  4.29s/it]\n",
            "cudnn-7.6.5          | : 100% 1.0/1 [00:04<00:00,  4.08s/it]               \n",
            "cupti-9.0.176        | : 100% 1.0/1 [00:00<00:00, 11.77it/s]\n",
            "libgomp-9.2.0        | : 100% 1.0/1 [00:00<00:00,  7.39it/s]\n",
            "openblas-0.2.20      | : 100% 1.0/1 [00:03<00:00,  3.90s/it]\n",
            "_openmp_mutex-4.5    | : 100% 1.0/1 [00:00<00:00, 11.96it/s]\n",
            "blas-1.1             | : 100% 1.0/1 [00:00<00:00, 19.30it/s]\n",
            "libgcc-ng-9.2.0      | : 100% 1.0/1 [00:01<00:00,  1.31s/it]\n",
            "blosc-1.18.1         | : 100% 1.0/1 [00:00<00:00,  6.21it/s]\n",
            "bzip2-1.0.8          | : 100% 1.0/1 [00:00<00:00,  9.30it/s]\n",
            "c-ares-1.15.0        | : 100% 1.0/1 [00:00<00:00, 18.47it/s]\n",
            "expat-2.2.9          | : 100% 1.0/1 [00:00<00:00, 14.91it/s]\n",
            "icu-58.2             | : 100% 1.0/1 [00:03<00:00,  3.37s/it]\n",
            "jpeg-9c              | : 100% 1.0/1 [00:00<00:00, 13.10it/s]\n",
            "libffi-3.2.1         | : 100% 1.0/1 [00:00<00:00, 17.80it/s]\n",
            "libiconv-1.15        | : 100% 1.0/1 [00:00<00:00,  3.31it/s]\n",
            "libllvm8-8.0.1       | : 100% 1.0/1 [00:03<00:00,  3.85s/it]              \n",
            "libsodium-1.0.17     | : 100% 1.0/1 [00:00<00:00,  8.15it/s]\n",
            "libuuid-2.32.1       | : 100% 1.0/1 [00:00<00:00, 25.20it/s]\n",
            "lzo-2.10             | : 100% 1.0/1 [00:00<00:00,  9.71it/s]\n",
            "ncurses-6.1          | : 100% 1.0/1 [00:00<00:00,  1.65it/s]\n",
            "openssl-1.0.2u       | : 100% 1.0/1 [00:00<00:00,  1.40it/s]\n",
            "pcre-8.44            | : 100% 1.0/1 [00:00<00:00,  4.28it/s]                \n",
            "pixman-0.34.0        | : 100% 1.0/1 [00:00<00:00,  6.92it/s]\n",
            "pthread-stubs-0.4    | : 100% 1.0/1 [00:00<00:00, 34.06it/s]\n",
            "tbb-2020.1           | : 100% 1.0/1 [00:00<00:00,  4.06it/s]\n",
            "xorg-kbproto-1.0.7   | : 100% 1.0/1 [00:00<00:00, 15.59it/s]\n",
            "xorg-libice-1.0.10   | : 100% 1.0/1 [00:00<00:00, 25.32it/s]\n",
            "xorg-libxau-1.0.9    | : 100% 1.0/1 [00:00<00:00, 32.59it/s]\n",
            "xorg-libxdmcp-1.1.3  | : 100% 1.0/1 [00:00<00:00, 30.59it/s]\n",
            "xorg-renderproto-0.1 | : 100% 1.0/1 [00:00<00:00, 41.70it/s]\n",
            "xorg-xextproto-7.3.0 | : 100% 1.0/1 [00:00<00:00, 23.22it/s]\n",
            "xorg-xproto-7.0.31   | : 100% 1.0/1 [00:00<00:00, 21.26it/s]\n",
            "xz-5.2.5             | : 100% 1.0/1 [00:00<00:00,  8.55it/s]\n",
            "yaml-0.2.4           | : 100% 1.0/1 [00:00<00:00, 20.29it/s]\n",
            "zlib-1.2.11          | : 100% 1.0/1 [00:00<00:00, 14.39it/s]\n",
            "dbus-1.13.0          | : 100% 1.0/1 [00:00<00:00,  3.30it/s]\n",
            "gettext-0.19.8.1     | : 100% 1.0/1 [00:00<00:00,  1.19it/s]\n",
            "hdf5-1.10.6          | : 100% 1.0/1 [00:00<00:00,  2.04it/s]\n",
            "libpng-1.6.37        | : 100% 1.0/1 [00:00<00:00, 11.18it/s]\n",
            "libprotobuf-3.12.1   | : 100% 1.0/1 [00:00<00:00,  1.05it/s]\n",
            "libtiff-4.0.9        | : 100% 1.0/1 [00:00<00:00,  7.98it/s]\n",
            "libxcb-1.13          | : 100% 1.0/1 [00:00<00:00,  7.04it/s]\n",
            "libxml2-2.9.9        | : 100% 1.0/1 [00:00<00:00,  2.79it/s]\n",
            "readline-7.0         | : 100% 1.0/1 [00:00<00:00,  9.29it/s]\n",
            "tk-8.6.10            | : 100% 1.0/1 [00:00<00:00,  1.47it/s]\n",
            "xorg-libsm-1.2.3     | : 100% 1.0/1 [00:00<00:00, 28.74it/s]\n",
            "zeromq-4.3.2         | : 100% 1.0/1 [00:00<00:00,  5.35it/s]\n",
            "freetype-2.8.1       | : 100% 1.0/1 [00:00<00:00,  5.44it/s]\n",
            "glib-2.55.0          | : 100% 1.0/1 [00:01<00:00,  1.48s/it]\n",
            "sqlite-3.28.0        | : 100% 1.0/1 [00:00<00:00,  3.01it/s]\n",
            "xorg-libx11-1.6.9    | : 100% 1.0/1 [00:00<00:00,  5.45it/s]\n",
            "fontconfig-2.13.0    | : 100% 1.0/1 [00:00<00:00, 10.45it/s]\n",
            "gstreamer-1.12.5     | : 100% 1.0/1 [00:00<00:00,  2.62it/s]\n",
            "python-3.6.7         | : 100% 1.0/1 [00:04<00:00,  4.94s/it]\n",
            "xorg-libxext-1.3.4   | : 100% 1.0/1 [00:00<00:00, 22.72it/s]\n",
            "xorg-libxrender-0.9. | : 100% 1.0/1 [00:00<00:00, 29.92it/s]\n",
            "astor-0.7.1          | : 100% 1.0/1 [00:00<00:00, 26.70it/s]\n",
            "attrs-19.3.0         | : 100% 1.0/1 [00:00<00:00, 28.89it/s]\n",
            "backcall-0.1.0       | : 100% 1.0/1 [00:00<00:00, 39.28it/s]\n",
            "cairo-1.14.12        | : 100% 1.0/1 [00:00<00:00,  3.25it/s]\n",
            "decorator-4.4.2      | : 100% 1.0/1 [00:00<00:00, 15.67it/s]\n",
            "defusedxml-0.6.0     | : 100% 1.0/1 [00:00<00:00, 31.22it/s]\n",
            "gast-0.3.3           | : 100% 1.0/1 [00:00<00:00, 28.09it/s]\n",
            "gst-plugins-base-1.1 | : 100% 1.0/1 [00:00<00:00,  1.33it/s]\n",
            "idna-2.6             | : 100% 1.0/1 [00:00<00:00, 18.37it/s]\n",
            "ipython_genutils-0.2 | : 100% 1.0/1 [00:00<00:00, 23.84it/s]\n",
            "joblib-0.11          | : 100% 1.0/1 [00:00<00:00, 12.57it/s]\n",
            "jsonref-0.2          | : 100% 1.0/1 [00:00<00:00, 27.47it/s]\n",
            "monotonic-1.5        | : 100% 1.0/1 [00:00<00:00, 34.86it/s]\n",
            "more-itertools-8.3.0 | : 100% 1.0/1 [00:00<00:00, 23.66it/s]\n",
            "msgpack-python-0.5.5 | : 100% 1.0/1 [00:00<00:00, 13.34it/s]\n",
            "numpy-1.15.2         | : 100% 1.0/1 [00:01<00:00,  1.72s/it]\n",
            "olefile-0.46         | : 100% 1.0/1 [00:00<00:00,  9.20it/s]\n",
            "pandocfilters-1.4.2  | : 100% 1.0/1 [00:00<00:00, 13.07it/s]\n",
            "parso-0.7.0          | : 100% 1.0/1 [00:00<00:00, 19.15it/s]\n",
            "prometheus_client-0. | : 100% 1.0/1 [00:00<00:00, 22.25it/s]\n",
            "ptyprocess-0.6.0     | : 100% 1.0/1 [00:00<00:00, 25.71it/s]\n",
            "py-1.8.1             | : 100% 1.0/1 [00:00<00:00, 19.41it/s]\n",
            "pycparser-2.20       | : 100% 1.0/1 [00:00<00:00, 18.90it/s]\n",
            "pyparsing-2.4.7      | : 100% 1.0/1 [00:00<00:00, 25.00it/s]\n",
            "python_abi-3.6       | : 100% 1.0/1 [00:00<00:00, 31.57it/s]\n",
            "pytz-2020.1          | : 100% 1.0/1 [00:00<00:00,  7.29it/s]\n",
            "qtpy-1.9.0           | : 100% 1.0/1 [00:00<00:00, 22.27it/s]\n",
            "send2trash-1.5.0     | : 100% 1.0/1 [00:00<00:00, 31.88it/s]\n",
            "sip-4.18.1           | : 100% 1.0/1 [00:00<00:00, 12.48it/s]\n",
            "six-1.15.0           | : 100% 1.0/1 [00:00<00:00, 29.80it/s]\n",
            "termcolor-1.1.0      | : 100% 1.0/1 [00:00<00:00, 27.85it/s]\n",
            "testpath-0.4.4       | : 100% 1.0/1 [00:00<00:00, 24.68it/s]\n",
            "tqdm-4.46.0          | : 100% 1.0/1 [00:00<00:00, 22.55it/s]\n",
            "wcwidth-0.1.9        | : 100% 1.0/1 [00:00<00:00, 23.77it/s]\n",
            "webencodings-0.5.1   | : 100% 1.0/1 [00:00<00:00, 29.37it/s]\n",
            "werkzeug-1.0.1       | : 100% 1.0/1 [00:00<00:00, 11.47it/s]\n",
            "zipp-3.1.0           | : 100% 1.0/1 [00:00<00:00, 29.70it/s]\n",
            "absl-py-0.9.0        | : 100% 1.0/1 [00:00<00:00, 14.12it/s]\n",
            "asn1crypto-1.3.0     | : 100% 1.0/1 [00:00<00:00, 14.48it/s]\n",
            "boost-1.63.0         | : 100% 1.0/1 [00:06<00:00,  6.42s/it]\n",
            "certifi-2020.4.5.1   | : 100% 1.0/1 [00:00<00:00, 15.46it/s]\n",
            "cffi-1.14.0          | : 100% 1.0/1 [00:00<00:00, 15.32it/s]\n",
            "chardet-3.0.4        | : 100% 1.0/1 [00:00<00:00, 13.30it/s]\n",
            "conda-package-handli | : 100% 1.0/1 [00:00<00:00,  6.07it/s]\n",
            "cycler-0.10.0        | : 100% 1.0/1 [00:00<00:00, 24.72it/s]\n",
            "cython-0.29.19       | : 100% 1.0/1 [00:00<00:00,  2.14it/s]\n",
            "entrypoints-0.3      | : 100% 1.0/1 [00:00<00:00, 27.59it/s]\n",
            "html5lib-0.9999999   | : 100% 1.0/1 [00:00<00:00, 13.37it/s]\n",
            "importlib-metadata-1 | : 100% 1.0/1 [00:00<00:00, 23.53it/s]\n",
            "jedi-0.17.0          | : 100% 1.0/1 [00:00<00:00,  2.72it/s]\n",
            "kiwisolver-1.2.0     | : 100% 1.0/1 [00:00<00:00, 19.21it/s]\n",
            "llvmlite-0.32.0      | : 100% 1.0/1 [00:00<00:00,  8.56it/s]\n",
            "markupsafe-1.1.1     | : 100% 1.0/1 [00:00<00:00, 19.12it/s]\n",
            "mistune-0.8.4        | : 100% 1.0/1 [00:00<00:00, 16.66it/s]\n",
            "mock-4.0.2           | : 100% 1.0/1 [00:00<00:00, 22.96it/s]\n",
            "packaging-20.4       | : 100% 1.0/1 [00:00<00:00, 21.88it/s]\n",
            "pexpect-4.8.0        | : 100% 1.0/1 [00:00<00:00, 14.51it/s]\n",
            "pickleshare-0.7.5    | : 100% 1.0/1 [00:00<00:00, 17.33it/s]\n",
            "pillow-5.0.0         | : 100% 1.0/1 [00:00<00:00,  4.73it/s]\n",
            "pycosat-0.6.3        | : 100% 1.0/1 [00:00<00:00,  3.83it/s]                \n",
            "pyrsistent-0.16.0    | : 100% 1.0/1 [00:00<00:00, 16.91it/s]\n",
            "pysocks-1.7.1        | : 100% 1.0/1 [00:00<00:00, 31.22it/s]\n",
            "python-dateutil-2.8. | : 100% 1.0/1 [00:00<00:00, 17.04it/s]\n",
            "pyyaml-5.3.1         | : 100% 1.0/1 [00:00<00:00, 15.32it/s]\n",
            "pyzmq-19.0.1         | : 100% 1.0/1 [00:00<00:00,  7.18it/s]\n",
            "qt-5.6.2             | : 100% 1.0/1 [00:01<00:00,  1.76s/it]\n",
            "ruamel_yaml-0.15.80  | : 100% 1.0/1 [00:00<00:00, 10.12it/s]\n",
            "scipy-1.1.0          | : 100% 1.0/1 [00:06<00:00,  6.50s/it]\n",
            "simplejson-3.17.0    | : 100% 1.0/1 [00:00<00:00, 17.16it/s]\n",
            "tornado-6.0.4        | : 100% 1.0/1 [00:00<00:00,  5.98it/s]\n",
            "traitlets-4.3.3      | : 100% 1.0/1 [00:00<00:00, 11.23it/s]\n",
            "bleach-1.5.0         | : 100% 1.0/1 [00:00<00:00, 29.83it/s]\n",
            "cryptography-2.5     | : 100% 1.0/1 [00:00<00:00,  5.49it/s]\n",
            "importlib_metadata-1 | : 100% 1.0/1 [00:00<00:00, 33.59it/s]\n",
            "jupyter_core-4.6.3   | : 100% 1.0/1 [00:00<00:00, 20.46it/s]\n",
            "markdown-3.2.2       | : 100% 1.0/1 [00:00<00:00, 23.76it/s]\n",
            "openmm-7.4.2         | : 100% 1.0/1 [00:04<00:00,  4.06s/it]\n",
            "pandas-0.22.0        | : 100% 1.0/1 [00:05<00:00,  5.12s/it]               \n",
            "patsy-0.5.1          | : 100% 1.0/1 [00:00<00:00, 15.27it/s]\n",
            "pyqt-5.6.0           | : 100% 1.0/1 [00:01<00:00,  1.17s/it]\n",
            "scikit-learn-0.19.1  | : 100% 1.0/1 [00:02<00:00,  2.09s/it]               \n",
            "setuptools-47.1.1    | : 100% 1.0/1 [00:00<00:00,  4.65it/s]\n",
            "terminado-0.8.3      | : 100% 1.0/1 [00:00<00:00, 16.32it/s]\n",
            "xgboost-0.6a2        | : 100% 1.0/1 [00:00<00:00,  3.79it/s]\n",
            "anyconfig-0.9.10     | : 100% 1.0/1 [00:00<00:00, 24.54it/s]\n",
            "grpcio-1.16.0        | : 100% 1.0/1 [00:00<00:00,  4.54it/s]\n",
            "jinja2-2.11.2        | : 100% 1.0/1 [00:00<00:00, 19.61it/s]\n",
            "jsonschema-3.2.0     | : 100% 1.0/1 [00:00<00:00, 16.07it/s]\n",
            "jupyter_client-6.1.3 | : 100% 1.0/1 [00:00<00:00, 18.32it/s]\n",
            "matplotlib-2.2.2     | : 100% 1.0/1 [00:00<00:00,  3.64it/s]\n",
            "networkx-2.1         | : 100% 1.0/1 [00:00<00:00,  3.57it/s]\n",
            "numba-0.49.1         | : 100% 1.0/1 [00:00<00:00,  1.21it/s]\n",
            "numexpr-2.7.1        | : 100% 1.0/1 [00:00<00:00, 14.47it/s]\n",
            "pdbfixer-1.4         | : 100% 1.0/1 [00:00<00:00,  1.32it/s]\n",
            "pluggy-0.13.1        | : 100% 1.0/1 [00:00<00:00, 20.53it/s]\n",
            "protobuf-3.12.1      | : 100% 1.0/1 [00:00<00:00,  3.96it/s]\n",
            "pygments-2.6.1       | : 100% 1.0/1 [00:00<00:00,  5.18it/s]\n",
            "pyopenssl-19.0.0     | : 100% 1.0/1 [00:00<00:00, 21.81it/s]\n",
            "rdkit-2017.09.1      | : 100% 1.0/1 [00:05<00:00,  5.06s/it]\n",
            "statsmodels-0.10.2   | : 100% 1.0/1 [00:02<00:00,  2.03s/it]\n",
            "wheel-0.34.2         | : 100% 1.0/1 [00:00<00:00, 28.25it/s]\n",
            "molvs-0.1.1          | : 100% 1.0/1 [00:00<00:00, 31.62it/s]\n",
            "mordred-1.2.0        | : 100% 1.0/1 [00:00<00:00, 16.87it/s]\n",
            "nbformat-5.0.6       | : 100% 1.0/1 [00:00<00:00, 16.00it/s]\n",
            "pip-20.1.1           | : 100% 1.0/1 [00:00<00:00,  3.74it/s]\n",
            "prompt-toolkit-3.0.5 | : 100% 1.0/1 [00:00<00:00,  9.61it/s]\n",
            "pytables-3.6.1       | : 100% 1.0/1 [00:00<00:00,  2.84it/s]\n",
            "pytest-5.4.2         | : 100% 1.0/1 [00:00<00:00,  8.99it/s]\n",
            "seaborn-0.10.0       | : 100% 1.0/1 [00:00<00:00, 15.03it/s]\n",
            "simdna-0.4.2         | : 100% 1.0/1 [00:01<00:00,  1.19s/it]\n",
            "swagger-spec-validat | : 100% 1.0/1 [00:00<00:00, 25.34it/s]\n",
            "tensorboard-1.6.0    | : 100% 1.0/1 [00:00<00:00,  2.51it/s]\n",
            "tensorflow-gpu-base- | : 100% 1.0/1 [00:04<00:00,  4.54s/it]               \n",
            "umap-learn-0.4.2     | : 100% 1.0/1 [00:00<00:00, 17.95it/s]\n",
            "urllib3-1.22         | : 100% 1.0/1 [00:00<00:00, 14.77it/s]\n",
            "bravado-core-5.16.0  | : 100% 1.0/1 [00:00<00:00, 24.15it/s]\n",
            "ipython-7.15.0       | : 100% 1.0/1 [00:00<00:00,  3.13it/s]\n",
            "mdtraj-1.9.1         | : 100% 1.0/1 [00:02<00:00,  2.25s/it]\n",
            "nbconvert-5.6.1      | : 100% 1.0/1 [00:00<00:00,  7.10it/s]\n",
            "prompt_toolkit-3.0.5 | : 100% 1.0/1 [00:00<00:00, 32.23it/s]\n",
            "requests-2.18.4      | : 100% 1.0/1 [00:00<00:00, 20.50it/s]\n",
            "tensorflow-gpu-1.6.0 | : 100% 1.0/1 [00:00<00:00, 21.65it/s]\n",
            "bravado-10.4.3       | : 100% 1.0/1 [00:00<00:00, 22.71it/s]\n",
            "conda-4.8.3          | : 100% 1.0/1 [00:00<00:00,  1.49it/s]               \n",
            "ipykernel-5.3.0      | : 100% 1.0/1 [00:00<00:00, 12.70it/s]\n",
            "jupyter_console-6.1. | : 100% 1.0/1 [00:00<00:00, 21.15it/s]\n",
            "notebook-6.0.3       | : 100% 1.0/1 [00:01<00:00,  1.39s/it]\n",
            "qtconsole-4.7.4      | : 100% 1.0/1 [00:00<00:00,  5.86it/s]                \n",
            "widgetsnbextension-3 | : 100% 1.0/1 [00:00<00:00,  2.14it/s]\n",
            "ipywidgets-7.5.1     | : 100% 1.0/1 [00:00<00:00, 18.31it/s]\n",
            "jupyter-1.0.0        | : 100% 1.0/1 [00:00<00:00, 32.39it/s]\n",
            "deepchem-gpu-2.1.0   | : 100% 1.0/1 [00:01<00:00,  1.55s/it]\n",
            "Preparing transaction: - \b\b\\ \b\b| \b\b/ \b\b- \b\b\\ \b\b| \b\b/ \b\b- \b\b\\ \b\b| \b\b/ \b\b- \b\b\\ \b\b| \b\b/ \b\b- \b\b\\ \b\b| \b\b/ \b\b- \b\b\\ \b\bdone\n",
            "Verifying transaction: / \b\b- \b\b\\ \b\b| \b\b/ \b\b- \b\b\\ \b\b| \b\b/ \b\b- \b\b\\ \b\b| \b\b/ \b\b- \b\b\\ \b\b| \b\b/ \b\b- \b\b\\ \b\b| \b\b/ \b\b- \b\b\\ \b\b| \b\b/ \b\b- \b\b\\ \b\b| \b\b/ \b\b- \b\b\\ \b\b| \b\b/ \b\b- \b\b\\ \b\b| \b\b/ \b\b- \b\b\\ \b\b| \b\b/ \b\b- \b\b\\ \b\b| \b\b/ \b\b- \b\b\\ \b\b| \b\b/ \b\b- \b\b\\ \b\b| \b\b/ \b\b- \b\b\\ \b\b| \b\b/ \b\b- \b\b\\ \b\b| \b\b/ \b\b- \b\b\\ \b\b| \b\b/ \b\b- \b\b\\ \b\b| \b\b/ \b\b- \b\b\\ \b\b| \b\b/ \b\b- \b\b\\ \b\b| \b\b/ \b\b- \b\b\\ \b\b| \b\b/ \b\b- \b\b\\ \b\b| \b\b/ \b\b- \b\b\\ \b\b| \b\b/ \b\b- \b\b\\ \b\b| \b\b/ \b\b- \b\b\\ \b\b| \b\b/ \b\b- \b\b\\ \b\b| \b\b/ \b\bdone\n",
            "Executing transaction: \\ \b\b| \b\b/ \b\b- \b\b\\ \b\b| \b\b/ \b\b- \b\b\\ \b\b| \b\b/ \b\b- \b\b\\ \b\b| \b\b/ \b\b- \b\b\\ \b\b| \b\b/ \b\b- \b\b\\ \b\b| \b\b/ \b\b- \b\b\\ \b\b| \b\b/ \b\b- \b\b\\ \b\b| \b\b/ \b\b- \b\b\\ \b\b| \b\b/ \b\b- \b\b\\ \b\b| \b\b/ \b\b- \b\b\\ \b\b| Enabling notebook extension jupyter-js-widgets/extension...\n",
            "Paths used for configuration of notebook: \n",
            "    \t/content/AMPL/etc/jupyter/nbconfig/notebook.d/widgetsnbextension.json\n",
            "    \t/content/AMPL/etc/jupyter/nbconfig/notebook.json\n",
            "Paths used for configuration of notebook: \n",
            "    \t/content/AMPL/etc/jupyter/nbconfig/notebook.d/widgetsnbextension.json\n",
            "      - Validating: \u001b[32mOK\u001b[0m\n",
            "Paths used for configuration of notebook: \n",
            "    \t/content/AMPL/etc/jupyter/nbconfig/notebook.d/widgetsnbextension.json\n",
            "    \t/content/AMPL/etc/jupyter/nbconfig/notebook.json\n",
            "\n",
            "\b\b/ \b\b- \b\b\\ \b\b| \b\b/ \b\b- \b\b\\ \b\b| \b\b/ \b\b- \b\b\\ \b\b| \b\b/ \b\b- \b\b\\ \b\b| \b\b/ \b\b- \b\b\\ \b\b| \b\b/ \b\b- \b\b\\ \b\b| \b\b/ \b\b- \b\b\\ \b\b| \b\b/ \b\b- \b\b\\ \b\b| \b\b/ \b\b- \b\b\\ \b\b| \b\b/ \b\b- \b\b\\ \b\b| \b\b/ \b\b- \b\b\\ \b\b| \b\b/ \b\b- \b\b\\ \b\b| \b\b/ \b\b- \b\b\\ \b\b| \b\b/ \b\b- \b\b\\ \b\b| \b\b/ \b\b- \b\b\\ \b\b| \b\bdone\n",
            "Cloning into 'AMPL'...\n",
            "remote: Enumerating objects: 268, done.\u001b[K\n",
            "remote: Counting objects: 100% (268/268), done.\u001b[K\n",
            "remote: Compressing objects: 100% (177/177), done.\u001b[K\n",
            "remote: Total 1739 (delta 156), reused 168 (delta 90), pack-reused 1471\u001b[K\n",
            "Receiving objects: 100% (1739/1739), 9.69 MiB | 20.80 MiB/s, done.\n",
            "Resolving deltas: 100% (982/982), done.\n",
            "patching file /content/github/AMPL/atomsci/ddm/pipeline/transformations.py\n",
            "patching file /content/github/AMPL/atomsci/ddm/__init__.py\n",
            "running build\n",
            "running build_py\n",
            "creating /content/github/AMPL.build/ampl/lib\n",
            "creating /content/github/AMPL.build/ampl/lib/atomsci\n",
            "copying atomsci/__init__.py -> /content/github/AMPL.build/ampl/lib/atomsci\n",
            "creating /content/github/AMPL.build/ampl/lib/atomsci/ddm\n",
            "copying atomsci/ddm/__init__.py -> /content/github/AMPL.build/ampl/lib/atomsci/ddm\n",
            "creating /content/github/AMPL.build/ampl/lib/atomsci/ddm/utils\n",
            "copying atomsci/ddm/utils/__init__.py -> /content/github/AMPL.build/ampl/lib/atomsci/ddm/utils\n",
            "copying atomsci/ddm/utils/genTestset.py -> /content/github/AMPL.build/ampl/lib/atomsci/ddm/utils\n",
            "copying atomsci/ddm/utils/rdkit_easy.py -> /content/github/AMPL.build/ampl/lib/atomsci/ddm/utils\n",
            "copying atomsci/ddm/utils/datastore_functions.py -> /content/github/AMPL.build/ampl/lib/atomsci/ddm/utils\n",
            "copying atomsci/ddm/utils/process_slurm.py -> /content/github/AMPL.build/ampl/lib/atomsci/ddm/utils\n",
            "copying atomsci/ddm/utils/data_curation_functions.py -> /content/github/AMPL.build/ampl/lib/atomsci/ddm/utils\n",
            "copying atomsci/ddm/utils/llnl_utils.py -> /content/github/AMPL.build/ampl/lib/atomsci/ddm/utils\n",
            "copying atomsci/ddm/utils/pubchem_utils.py -> /content/github/AMPL.build/ampl/lib/atomsci/ddm/utils\n",
            "copying atomsci/ddm/utils/curate_data.py -> /content/github/AMPL.build/ampl/lib/atomsci/ddm/utils\n",
            "copying atomsci/ddm/utils/open-docs.py -> /content/github/AMPL.build/ampl/lib/atomsci/ddm/utils\n",
            "copying atomsci/ddm/utils/struct_utils.py -> /content/github/AMPL.build/ampl/lib/atomsci/ddm/utils\n",
            "copying atomsci/ddm/utils/hyperparam_search_wrapper.py -> /content/github/AMPL.build/ampl/lib/atomsci/ddm/utils\n",
            "creating /content/github/AMPL.build/ampl/lib/atomsci/ddm/pipeline\n",
            "copying atomsci/ddm/pipeline/__init__.py -> /content/github/AMPL.build/ampl/lib/atomsci/ddm/pipeline\n",
            "copying atomsci/ddm/pipeline/model_datasets.py -> /content/github/AMPL.build/ampl/lib/atomsci/ddm/pipeline\n",
            "copying atomsci/ddm/pipeline/model_pipeline.py -> /content/github/AMPL.build/ampl/lib/atomsci/ddm/pipeline\n",
            "copying atomsci/ddm/pipeline/temporal_splitter.py -> /content/github/AMPL.build/ampl/lib/atomsci/ddm/pipeline\n",
            "copying atomsci/ddm/pipeline/compare_models.py -> /content/github/AMPL.build/ampl/lib/atomsci/ddm/pipeline\n",
            "copying atomsci/ddm/pipeline/perf_plots.py -> /content/github/AMPL.build/ampl/lib/atomsci/ddm/pipeline\n",
            "copying atomsci/ddm/pipeline/ave_splitter.py -> /content/github/AMPL.build/ampl/lib/atomsci/ddm/pipeline\n",
            "copying atomsci/ddm/pipeline/dist_metrics.py -> /content/github/AMPL.build/ampl/lib/atomsci/ddm/pipeline\n",
            "copying atomsci/ddm/pipeline/hyper_perf_plots.py -> /content/github/AMPL.build/ampl/lib/atomsci/ddm/pipeline\n",
            "copying atomsci/ddm/pipeline/model_wrapper.py -> /content/github/AMPL.build/ampl/lib/atomsci/ddm/pipeline\n",
            "copying atomsci/ddm/pipeline/perf_data.py -> /content/github/AMPL.build/ampl/lib/atomsci/ddm/pipeline\n",
            "copying atomsci/ddm/pipeline/diversity_plots.py -> /content/github/AMPL.build/ampl/lib/atomsci/ddm/pipeline\n",
            "copying atomsci/ddm/pipeline/chem_diversity.py -> /content/github/AMPL.build/ampl/lib/atomsci/ddm/pipeline\n",
            "copying atomsci/ddm/pipeline/model_tracker.py -> /content/github/AMPL.build/ampl/lib/atomsci/ddm/pipeline\n",
            "copying atomsci/ddm/pipeline/transformations.py -> /content/github/AMPL.build/ampl/lib/atomsci/ddm/pipeline\n",
            "copying atomsci/ddm/pipeline/featurization.py -> /content/github/AMPL.build/ampl/lib/atomsci/ddm/pipeline\n",
            "copying atomsci/ddm/pipeline/parameter_parser.py -> /content/github/AMPL.build/ampl/lib/atomsci/ddm/pipeline\n",
            "copying atomsci/ddm/pipeline/splitting.py -> /content/github/AMPL.build/ampl/lib/atomsci/ddm/pipeline\n",
            "running egg_info\n",
            "creating /content/github/AMPL.build/ampl/atomsci_ampl.egg-info\n",
            "writing /content/github/AMPL.build/ampl/atomsci_ampl.egg-info/PKG-INFO\n",
            "writing dependency_links to /content/github/AMPL.build/ampl/atomsci_ampl.egg-info/dependency_links.txt\n",
            "writing namespace_packages to /content/github/AMPL.build/ampl/atomsci_ampl.egg-info/namespace_packages.txt\n",
            "writing top-level names to /content/github/AMPL.build/ampl/atomsci_ampl.egg-info/top_level.txt\n",
            "writing manifest file '/content/github/AMPL.build/ampl/atomsci_ampl.egg-info/SOURCES.txt'\n",
            "reading manifest file '/content/github/AMPL.build/ampl/atomsci_ampl.egg-info/SOURCES.txt'\n",
            "reading manifest template 'MANIFEST.in'\n",
            "warning: no files found matching 'atomsci/*/*.yaml'\n",
            "writing manifest file '/content/github/AMPL.build/ampl/atomsci_ampl.egg-info/SOURCES.txt'\n",
            "creating /content/github/AMPL.build/ampl/lib/atomsci/ddm/data\n",
            "copying atomsci/ddm/data/descriptor_sets_sources_by_descr_type.csv -> /content/github/AMPL.build/ampl/lib/atomsci/ddm/data\n",
            "running bdist_wheel\n",
            "installing to /content/github/AMPL.build/ampl/bdist.linux-x86_64/wheel\n",
            "running install\n",
            "running install_lib\n",
            "Skipping installation of /content/github/AMPL.build/ampl/bdist.linux-x86_64/wheel/atomsci/__init__.py (namespace package)\n",
            "copying atomsci/ddm/__init__.py -> /content/github/AMPL.build/ampl/bdist.linux-x86_64/wheel/atomsci/ddm\n",
            "copying atomsci/ddm/utils/__init__.py -> /content/github/AMPL.build/ampl/bdist.linux-x86_64/wheel/atomsci/ddm/utils\n",
            "copying atomsci/ddm/utils/genTestset.py -> /content/github/AMPL.build/ampl/bdist.linux-x86_64/wheel/atomsci/ddm/utils\n",
            "copying atomsci/ddm/utils/rdkit_easy.py -> /content/github/AMPL.build/ampl/bdist.linux-x86_64/wheel/atomsci/ddm/utils\n",
            "copying atomsci/ddm/utils/datastore_functions.py -> /content/github/AMPL.build/ampl/bdist.linux-x86_64/wheel/atomsci/ddm/utils\n",
            "copying atomsci/ddm/utils/process_slurm.py -> /content/github/AMPL.build/ampl/bdist.linux-x86_64/wheel/atomsci/ddm/utils\n",
            "copying atomsci/ddm/utils/data_curation_functions.py -> /content/github/AMPL.build/ampl/bdist.linux-x86_64/wheel/atomsci/ddm/utils\n",
            "copying atomsci/ddm/utils/llnl_utils.py -> /content/github/AMPL.build/ampl/bdist.linux-x86_64/wheel/atomsci/ddm/utils\n",
            "copying atomsci/ddm/utils/pubchem_utils.py -> /content/github/AMPL.build/ampl/bdist.linux-x86_64/wheel/atomsci/ddm/utils\n",
            "copying atomsci/ddm/utils/curate_data.py -> /content/github/AMPL.build/ampl/bdist.linux-x86_64/wheel/atomsci/ddm/utils\n",
            "copying atomsci/ddm/utils/open-docs.py -> /content/github/AMPL.build/ampl/bdist.linux-x86_64/wheel/atomsci/ddm/utils\n",
            "copying atomsci/ddm/utils/struct_utils.py -> /content/github/AMPL.build/ampl/bdist.linux-x86_64/wheel/atomsci/ddm/utils\n",
            "copying atomsci/ddm/utils/hyperparam_search_wrapper.py -> /content/github/AMPL.build/ampl/bdist.linux-x86_64/wheel/atomsci/ddm/utils\n",
            "copying atomsci/ddm/pipeline/__init__.py -> /content/github/AMPL.build/ampl/bdist.linux-x86_64/wheel/atomsci/ddm/pipeline\n",
            "copying atomsci/ddm/pipeline/model_datasets.py -> /content/github/AMPL.build/ampl/bdist.linux-x86_64/wheel/atomsci/ddm/pipeline\n",
            "copying atomsci/ddm/pipeline/model_pipeline.py -> /content/github/AMPL.build/ampl/bdist.linux-x86_64/wheel/atomsci/ddm/pipeline\n",
            "copying atomsci/ddm/pipeline/temporal_splitter.py -> /content/github/AMPL.build/ampl/bdist.linux-x86_64/wheel/atomsci/ddm/pipeline\n",
            "copying atomsci/ddm/pipeline/compare_models.py -> /content/github/AMPL.build/ampl/bdist.linux-x86_64/wheel/atomsci/ddm/pipeline\n",
            "copying atomsci/ddm/pipeline/perf_plots.py -> /content/github/AMPL.build/ampl/bdist.linux-x86_64/wheel/atomsci/ddm/pipeline\n",
            "copying atomsci/ddm/pipeline/ave_splitter.py -> /content/github/AMPL.build/ampl/bdist.linux-x86_64/wheel/atomsci/ddm/pipeline\n",
            "copying atomsci/ddm/pipeline/dist_metrics.py -> /content/github/AMPL.build/ampl/bdist.linux-x86_64/wheel/atomsci/ddm/pipeline\n",
            "copying atomsci/ddm/pipeline/hyper_perf_plots.py -> /content/github/AMPL.build/ampl/bdist.linux-x86_64/wheel/atomsci/ddm/pipeline\n",
            "copying atomsci/ddm/pipeline/model_wrapper.py -> /content/github/AMPL.build/ampl/bdist.linux-x86_64/wheel/atomsci/ddm/pipeline\n",
            "copying atomsci/ddm/pipeline/perf_data.py -> /content/github/AMPL.build/ampl/bdist.linux-x86_64/wheel/atomsci/ddm/pipeline\n",
            "copying atomsci/ddm/pipeline/diversity_plots.py -> /content/github/AMPL.build/ampl/bdist.linux-x86_64/wheel/atomsci/ddm/pipeline\n",
            "copying atomsci/ddm/pipeline/chem_diversity.py -> /content/github/AMPL.build/ampl/bdist.linux-x86_64/wheel/atomsci/ddm/pipeline\n",
            "copying atomsci/ddm/pipeline/model_tracker.py -> /content/github/AMPL.build/ampl/bdist.linux-x86_64/wheel/atomsci/ddm/pipeline\n",
            "copying atomsci/ddm/pipeline/transformations.py -> /content/github/AMPL.build/ampl/bdist.linux-x86_64/wheel/atomsci/ddm/pipeline\n",
            "copying atomsci/ddm/pipeline/featurization.py -> /content/github/AMPL.build/ampl/bdist.linux-x86_64/wheel/atomsci/ddm/pipeline\n",
            "copying atomsci/ddm/pipeline/parameter_parser.py -> /content/github/AMPL.build/ampl/bdist.linux-x86_64/wheel/atomsci/ddm/pipeline\n",
            "copying atomsci/ddm/pipeline/splitting.py -> /content/github/AMPL.build/ampl/bdist.linux-x86_64/wheel/atomsci/ddm/pipeline\n",
            "copying atomsci/ddm/data/descriptor_sets_sources_by_descr_type.csv -> /content/github/AMPL.build/ampl/bdist.linux-x86_64/wheel/atomsci/ddm/data\n",
            "running install_egg_info\n",
            "Copying /content/github/AMPL.build/ampl/atomsci_ampl.egg-info to /content/github/AMPL.build/ampl/bdist.linux-x86_64/wheel/atomsci_ampl-1.0.0.dev1-py3.6.egg-info\n",
            "Installing /content/github/AMPL.build/ampl/bdist.linux-x86_64/wheel/atomsci_ampl-1.0.0.dev1-py3.6-nspkg.pth\n",
            "running install_scripts\n",
            "adding license file \"LICENSE\" (matched pattern \"LICEN[CS]E*\")\n",
            "adding license file \"NOTICE\" (matched pattern \"NOTICE*\")\n",
            "creating /content/github/AMPL.build/ampl/bdist.linux-x86_64/wheel/atomsci_ampl-1.0.0.dev1.dist-info/WHEEL\n",
            "creating '/content/github/AMPL.dist/atomsci_ampl-1.0.0.dev1-py3-none-any.whl' and adding '/content/github/AMPL.build/ampl/bdist.linux-x86_64/wheel' to it\n",
            "adding 'atomsci_ampl-1.0.0.dev1-py3.6-nspkg.pth'\n",
            "adding 'atomsci/ddm/__init__.py'\n",
            "adding 'atomsci/ddm/data/descriptor_sets_sources_by_descr_type.csv'\n",
            "adding 'atomsci/ddm/pipeline/__init__.py'\n",
            "adding 'atomsci/ddm/pipeline/ave_splitter.py'\n",
            "adding 'atomsci/ddm/pipeline/chem_diversity.py'\n",
            "adding 'atomsci/ddm/pipeline/compare_models.py'\n",
            "adding 'atomsci/ddm/pipeline/dist_metrics.py'\n",
            "adding 'atomsci/ddm/pipeline/diversity_plots.py'\n",
            "adding 'atomsci/ddm/pipeline/featurization.py'\n",
            "adding 'atomsci/ddm/pipeline/hyper_perf_plots.py'\n",
            "adding 'atomsci/ddm/pipeline/model_datasets.py'\n",
            "adding 'atomsci/ddm/pipeline/model_pipeline.py'\n",
            "adding 'atomsci/ddm/pipeline/model_tracker.py'\n",
            "adding 'atomsci/ddm/pipeline/model_wrapper.py'\n",
            "adding 'atomsci/ddm/pipeline/parameter_parser.py'\n",
            "adding 'atomsci/ddm/pipeline/perf_data.py'\n",
            "adding 'atomsci/ddm/pipeline/perf_plots.py'\n",
            "adding 'atomsci/ddm/pipeline/splitting.py'\n",
            "adding 'atomsci/ddm/pipeline/temporal_splitter.py'\n",
            "adding 'atomsci/ddm/pipeline/transformations.py'\n",
            "adding 'atomsci/ddm/utils/__init__.py'\n",
            "adding 'atomsci/ddm/utils/curate_data.py'\n",
            "adding 'atomsci/ddm/utils/data_curation_functions.py'\n",
            "adding 'atomsci/ddm/utils/datastore_functions.py'\n",
            "adding 'atomsci/ddm/utils/genTestset.py'\n",
            "adding 'atomsci/ddm/utils/hyperparam_search_wrapper.py'\n",
            "adding 'atomsci/ddm/utils/llnl_utils.py'\n",
            "adding 'atomsci/ddm/utils/open-docs.py'\n",
            "adding 'atomsci/ddm/utils/process_slurm.py'\n",
            "adding 'atomsci/ddm/utils/pubchem_utils.py'\n",
            "adding 'atomsci/ddm/utils/rdkit_easy.py'\n",
            "adding 'atomsci/ddm/utils/struct_utils.py'\n",
            "adding 'atomsci_ampl-1.0.0.dev1.dist-info/LICENSE'\n",
            "adding 'atomsci_ampl-1.0.0.dev1.dist-info/METADATA'\n",
            "adding 'atomsci_ampl-1.0.0.dev1.dist-info/NOTICE'\n",
            "adding 'atomsci_ampl-1.0.0.dev1.dist-info/WHEEL'\n",
            "adding 'atomsci_ampl-1.0.0.dev1.dist-info/namespace_packages.txt'\n",
            "adding 'atomsci_ampl-1.0.0.dev1.dist-info/top_level.txt'\n",
            "adding 'atomsci_ampl-1.0.0.dev1.dist-info/RECORD'\n",
            "removing /content/github/AMPL.build/ampl/bdist.linux-x86_64/wheel\n",
            "DIR: /content/github/AMPL\n",
            "Non-user install because site-packages writeable\n",
            "Ignoring indexes: https://pypi.org/simple\n",
            "Created temporary directory: /tmp/pip-ephem-wheel-cache-c5pp5dyi\n",
            "Created temporary directory: /tmp/pip-req-tracker-y6mn7lnv\n",
            "Initialized build tracking at /tmp/pip-req-tracker-y6mn7lnv\n",
            "Created build tracker: /tmp/pip-req-tracker-y6mn7lnv\n",
            "Entered build tracker: /tmp/pip-req-tracker-y6mn7lnv\n",
            "Created temporary directory: /tmp/pip-install-l9959osq\n",
            "Looking in links: /content/github/AMPL.dist\n",
            "0 location(s) to search for versions of atomsci-ampl:\n",
            "Skipping link: unsupported archive format: .dist: /content/github/AMPL.dist (from -f)\n",
            "Found link file:///content/github/AMPL.dist/atomsci_ampl-1.0.0.dev1-py3-none-any.whl, version: 1.0.0.dev1\n",
            "Local files found: /content/github/AMPL.dist/atomsci_ampl-1.0.0.dev1-py3-none-any.whl\n",
            "Given no hashes to check 1 links for project 'atomsci-ampl': discarding no candidates\n",
            "Using version 1.0.0.dev1 (newest of versions: 1.0.0.dev1)\n",
            "Processing /content/github/AMPL.dist/atomsci_ampl-1.0.0.dev1-py3-none-any.whl\n",
            "  Added atomsci_ampl from file:///content/github/AMPL.dist/atomsci_ampl-1.0.0.dev1-py3-none-any.whl to build tracker '/tmp/pip-req-tracker-y6mn7lnv'\n",
            "  Removed atomsci_ampl from file:///content/github/AMPL.dist/atomsci_ampl-1.0.0.dev1-py3-none-any.whl from build tracker '/tmp/pip-req-tracker-y6mn7lnv'\n",
            "Installing collected packages: atomsci-ampl\n",
            "  Created temporary directory: /tmp/pip-unpacked-wheel-9whfj1zh\n",
            "\n",
            "Successfully installed atomsci-ampl-1.0.0.dev1\n",
            "Removed build tracker: '/tmp/pip-req-tracker-y6mn7lnv'\n",
            "\n",
            "real\t2m33.537s\n",
            "user\t1m44.547s\n",
            "sys\t0m23.786s\n"
          ],
          "name": "stdout"
        }
      ]
    },
    {
      "cell_type": "markdown",
      "metadata": {
        "extensions": {
          "jupyter_dashboards": {
            "version": 1,
            "views": {
              "grid_default": {},
              "report_default": {
                "hidden": true
              }
            }
          }
        },
        "id": "EYJe-CJFOqPy"
      },
      "source": [
        "## Exploring target activity data from selected database\n",
        "## Data source = ExcapeDB\n",
        "## Target activity = HTR3A"
      ]
    },
    {
      "cell_type": "code",
      "metadata": {
        "colab": {
          "base_uri": "https://localhost:8080/"
        },
        "id": "1mnMrfOmQay3",
        "outputId": "186669b3-445f-461e-f250-a75998f7bb50"
      },
      "source": [
        "# Load AMPL in this notebook\r\n",
        "# import sys\r\n",
        "\r\n",
        "# site_packages_path = '/content/AMPL/lib/python3.6/site-packages'\r\n",
        "# if site_packages_path not in sys.path:\r\n",
        "#   sys.path.insert(1, site_packages_path)\r\n",
        "# sys.path"
      ],
      "execution_count": null,
      "outputs": [
        {
          "output_type": "execute_result",
          "data": {
            "text/plain": [
              "['',\n",
              " '/content/AMPL/lib/python3.6/site-packages',\n",
              " '/env/python',\n",
              " '/usr/lib/python36.zip',\n",
              " '/usr/lib/python3.6',\n",
              " '/usr/lib/python3.6/lib-dynload',\n",
              " '/usr/local/lib/python3.6/dist-packages',\n",
              " '/usr/lib/python3/dist-packages',\n",
              " '/usr/local/lib/python3.6/dist-packages/IPython/extensions',\n",
              " '/root/.ipython']"
            ]
          },
          "metadata": {
            "tags": []
          },
          "execution_count": 2
        }
      ]
    },
    {
      "cell_type": "code",
      "metadata": {
        "id": "Kwk6F1jdQdj2"
      },
      "source": [
        "# There is a problem with the previously imported cffi, so delete it and \r\n",
        "# load it with AMPL instead\r\n",
        "if 'cffi' in sys.modules:\r\n",
        "  del sys.modules['cffi']"
      ],
      "execution_count": null,
      "outputs": []
    },
    {
      "cell_type": "code",
      "metadata": {
        "id": "siF4OsX8Qee0"
      },
      "source": [
        "# We temporarily disable warnings for demonstration.\r\n",
        "# FutureWarnings and DeprecationWarnings are present from some of the AMPL \r\n",
        "# dependency modules.\r\n",
        "import warnings\r\n",
        "warnings.filterwarnings('ignore')\r\n",
        "\r\n",
        "import json\r\n",
        "import numpy as np\r\n",
        "import pandas as pd\r\n",
        "import os\r\n",
        "import requests\r\n",
        "import sys"
      ],
      "execution_count": null,
      "outputs": []
    },
    {
      "cell_type": "code",
      "metadata": {
        "id": "PZvaDs6UOqP5",
        "colab": {
          "base_uri": "https://localhost:8080/"
        },
        "outputId": "1669c53c-d040-4e3a-fb8f-868fdc655683"
      },
      "source": [
        "#\n",
        "# Import AMPL libraries\n",
        "# \n",
        "import atomsci.ddm.utils.data_curation_functions as dcf\n",
        "import atomsci.ddm.utils.curate_data as curate_data\n",
        "import atomsci.ddm.pipeline.diversity_plots as dp\n",
        "import atomsci.ddm.pipeline.chem_diversity as cd\n",
        "# Additional python libraries\n",
        "import pandas as pd\n",
        "import numpy as np\n",
        "import getpass,os"
      ],
      "execution_count": null,
      "outputs": [
        {
          "output_type": "stream",
          "text": [
            "/content/AMPL/lib/python3.6/site-packages/sklearn/ensemble/weight_boosting.py:29: DeprecationWarning: numpy.core.umath_tests is an internal NumPy module and should not be imported. It will be removed in a future NumPy release.\n",
            "  from numpy.core.umath_tests import inner1d\n"
          ],
          "name": "stderr"
        }
      ]
    },
    {
      "cell_type": "markdown",
      "metadata": {
        "id": "Tt6JTCNIOqP6"
      },
      "source": [
        "# Select a target to work with \n",
        "# (e.g. PDE2A, KCNH2, SCNA5)"
      ]
    },
    {
      "cell_type": "code",
      "metadata": {
        "id": "65NXKFdtOqP7"
      },
      "source": [
        "target_name='HTR3A'\r\n",
        "# username='ravi'\r\n",
        "ofile=target_name+'_excape_curated.csv'"
      ],
      "execution_count": null,
      "outputs": []
    },
    {
      "cell_type": "code",
      "metadata": {
        "id": "k5Knw3TZjqAr"
      },
      "source": [
        "import io\r\n",
        "url = 'https://raw.githubusercontent.com/ravichas/AMPL-Tutorial/master/datasets/Excape_HTR3A.tsv'\r\n",
        "download = requests.get(url).content"
      ],
      "execution_count": null,
      "outputs": []
    },
    {
      "cell_type": "code",
      "metadata": {
        "id": "qoiXE4FUTb8i"
      },
      "source": [
        "# Reading the downloaded content and turning it into a pandas dataframe\r\n",
        "data = pd.read_csv(io.StringIO(download.decode('utf-8')), sep='\\t', header=0 )"
      ],
      "execution_count": null,
      "outputs": []
    },
    {
      "cell_type": "markdown",
      "metadata": {
        "id": "282AC92lOqP7"
      },
      "source": [
        "# define data locations \n",
        "<!-- ## get username to use as a unique identifier to work in shared directories -->"
      ]
    },
    {
      "cell_type": "markdown",
      "metadata": {
        "id": "d7ioacLcOqP8"
      },
      "source": [
        "## Load previously saved raw data"
      ]
    },
    {
      "cell_type": "code",
      "metadata": {
        "colab": {
          "base_uri": "https://localhost:8080/",
          "height": 357
        },
        "id": "rdfZf55_Eawl",
        "outputId": "f0e1c055-6949-487e-d70f-c31ba552a6fd"
      },
      "source": [
        "data.head()"
      ],
      "execution_count": null,
      "outputs": [
        {
          "output_type": "execute_result",
          "data": {
            "text/html": [
              "<div>\n",
              "<style scoped>\n",
              "    .dataframe tbody tr th:only-of-type {\n",
              "        vertical-align: middle;\n",
              "    }\n",
              "\n",
              "    .dataframe tbody tr th {\n",
              "        vertical-align: top;\n",
              "    }\n",
              "\n",
              "    .dataframe thead th {\n",
              "        text-align: right;\n",
              "    }\n",
              "</style>\n",
              "<table border=\"1\" class=\"dataframe\">\n",
              "  <thead>\n",
              "    <tr style=\"text-align: right;\">\n",
              "      <th></th>\n",
              "      <th>Ambit_InchiKey</th>\n",
              "      <th>Original_Entry_ID</th>\n",
              "      <th>Entrez_ID</th>\n",
              "      <th>Activity_Flag</th>\n",
              "      <th>pXC50</th>\n",
              "      <th>DB</th>\n",
              "      <th>Original_Assay_ID</th>\n",
              "      <th>Tax_ID</th>\n",
              "      <th>Gene_Symbol</th>\n",
              "      <th>Ortholog_Group</th>\n",
              "      <th>InChI</th>\n",
              "      <th>SMILES</th>\n",
              "    </tr>\n",
              "  </thead>\n",
              "  <tbody>\n",
              "    <tr>\n",
              "      <th>0</th>\n",
              "      <td>AATPYXMXFBBKFO-KARVIEMNNA-N</td>\n",
              "      <td>CHEMBL526307</td>\n",
              "      <td>3359</td>\n",
              "      <td>N</td>\n",
              "      <td>1.00000</td>\n",
              "      <td>chembl20</td>\n",
              "      <td>565951</td>\n",
              "      <td>9606</td>\n",
              "      <td>HTR3A</td>\n",
              "      <td>2102</td>\n",
              "      <td>InChI=1/C14H17IN4O2/c1-7(2)8-4-11(20-3)9(15)5-...</td>\n",
              "      <td>C=1C(=C(OC2=CN=C(N=C2N)N)C=C(C1OC)I)C(C)C</td>\n",
              "    </tr>\n",
              "    <tr>\n",
              "      <th>1</th>\n",
              "      <td>ABIDZKZAFOTHFB-CCUGXXBONA-N</td>\n",
              "      <td>CHEMBL1271790</td>\n",
              "      <td>3359</td>\n",
              "      <td>A</td>\n",
              "      <td>8.17000</td>\n",
              "      <td>chembl20</td>\n",
              "      <td>674333</td>\n",
              "      <td>9606</td>\n",
              "      <td>HTR3A</td>\n",
              "      <td>2102</td>\n",
              "      <td>InChI=1/C21H28N4O3/c1-13-11-27-12-14(2)25(13)2...</td>\n",
              "      <td>C1C2CCN(C1)C[C@H]2NC(C3=C4N=C(OC4=CC=C3)N5[C@H...</td>\n",
              "    </tr>\n",
              "    <tr>\n",
              "      <th>2</th>\n",
              "      <td>ABSDJNLAUZQHJY-UHFFFAOYNA-N</td>\n",
              "      <td>CHEMBL2205048</td>\n",
              "      <td>3359</td>\n",
              "      <td>A</td>\n",
              "      <td>7.21000</td>\n",
              "      <td>chembl20</td>\n",
              "      <td>880265</td>\n",
              "      <td>9606</td>\n",
              "      <td>HTR3A</td>\n",
              "      <td>2102</td>\n",
              "      <td>InChI=1/C17H20N2OS/c1-20-14-5-4-6-15(13-14)21-...</td>\n",
              "      <td>N1(CCNCC1)C=2C(=CC=CC2)SC=3C=C(C=CC3)OC</td>\n",
              "    </tr>\n",
              "    <tr>\n",
              "      <th>3</th>\n",
              "      <td>ACKJXXOVSOCBPX-PHLAQJRANA-N</td>\n",
              "      <td>11376655</td>\n",
              "      <td>79246</td>\n",
              "      <td>A</td>\n",
              "      <td>8.25181</td>\n",
              "      <td>pubchem</td>\n",
              "      <td>652569</td>\n",
              "      <td>10116</td>\n",
              "      <td>HTR3A</td>\n",
              "      <td>2102</td>\n",
              "      <td>InChI=1/C36H46N6O/c1-26-33(27-14-6-9-17-30(27)...</td>\n",
              "      <td>O=C(NCCCCCCCNC=1C=2CCCCC2N=C3C1C=CC=C3)C4=C(C(...</td>\n",
              "    </tr>\n",
              "    <tr>\n",
              "      <th>4</th>\n",
              "      <td>ACKJXXOVSOCBPX-PHLAQJRANA-N</td>\n",
              "      <td>CHEMBL195241</td>\n",
              "      <td>3359</td>\n",
              "      <td>A</td>\n",
              "      <td>8.25000</td>\n",
              "      <td>chembl20</td>\n",
              "      <td>462123</td>\n",
              "      <td>9606</td>\n",
              "      <td>HTR3A</td>\n",
              "      <td>2102</td>\n",
              "      <td>InChI=1/C36H46N6O/c1-26-33(27-14-6-9-17-30(27)...</td>\n",
              "      <td>C=1(N=C2C=CC=CC2=C(C1C)C(=O)NCCCCCCCNC=3C4=C(C...</td>\n",
              "    </tr>\n",
              "  </tbody>\n",
              "</table>\n",
              "</div>"
            ],
            "text/plain": [
              "                Ambit_InchiKey  ...                                             SMILES\n",
              "0  AATPYXMXFBBKFO-KARVIEMNNA-N  ...          C=1C(=C(OC2=CN=C(N=C2N)N)C=C(C1OC)I)C(C)C\n",
              "1  ABIDZKZAFOTHFB-CCUGXXBONA-N  ...  C1C2CCN(C1)C[C@H]2NC(C3=C4N=C(OC4=CC=C3)N5[C@H...\n",
              "2  ABSDJNLAUZQHJY-UHFFFAOYNA-N  ...            N1(CCNCC1)C=2C(=CC=CC2)SC=3C=C(C=CC3)OC\n",
              "3  ACKJXXOVSOCBPX-PHLAQJRANA-N  ...  O=C(NCCCCCCCNC=1C=2CCCCC2N=C3C1C=CC=C3)C4=C(C(...\n",
              "4  ACKJXXOVSOCBPX-PHLAQJRANA-N  ...  C=1(N=C2C=CC=CC2=C(C1C)C(=O)NCCCCCCCNC=3C4=C(C...\n",
              "\n",
              "[5 rows x 12 columns]"
            ]
          },
          "metadata": {
            "tags": []
          },
          "execution_count": 9
        }
      ]
    },
    {
      "cell_type": "code",
      "metadata": {
        "colab": {
          "base_uri": "https://localhost:8080/",
          "height": 357
        },
        "id": "kKh18-NPOqP8",
        "outputId": "27e74124-364e-47ee-9bce-237b29b369d6"
      },
      "source": [
        "data.rename( columns={ \"pXC50\" : \"PXC50\", \"Ambit_InchiKey\" : \"compound_id\" }, inplace=True)\n",
        "data.head()"
      ],
      "execution_count": null,
      "outputs": [
        {
          "output_type": "execute_result",
          "data": {
            "text/html": [
              "<div>\n",
              "<style scoped>\n",
              "    .dataframe tbody tr th:only-of-type {\n",
              "        vertical-align: middle;\n",
              "    }\n",
              "\n",
              "    .dataframe tbody tr th {\n",
              "        vertical-align: top;\n",
              "    }\n",
              "\n",
              "    .dataframe thead th {\n",
              "        text-align: right;\n",
              "    }\n",
              "</style>\n",
              "<table border=\"1\" class=\"dataframe\">\n",
              "  <thead>\n",
              "    <tr style=\"text-align: right;\">\n",
              "      <th></th>\n",
              "      <th>compound_id</th>\n",
              "      <th>Original_Entry_ID</th>\n",
              "      <th>Entrez_ID</th>\n",
              "      <th>Activity_Flag</th>\n",
              "      <th>PXC50</th>\n",
              "      <th>DB</th>\n",
              "      <th>Original_Assay_ID</th>\n",
              "      <th>Tax_ID</th>\n",
              "      <th>Gene_Symbol</th>\n",
              "      <th>Ortholog_Group</th>\n",
              "      <th>InChI</th>\n",
              "      <th>SMILES</th>\n",
              "    </tr>\n",
              "  </thead>\n",
              "  <tbody>\n",
              "    <tr>\n",
              "      <th>0</th>\n",
              "      <td>AATPYXMXFBBKFO-KARVIEMNNA-N</td>\n",
              "      <td>CHEMBL526307</td>\n",
              "      <td>3359</td>\n",
              "      <td>N</td>\n",
              "      <td>1.00000</td>\n",
              "      <td>chembl20</td>\n",
              "      <td>565951</td>\n",
              "      <td>9606</td>\n",
              "      <td>HTR3A</td>\n",
              "      <td>2102</td>\n",
              "      <td>InChI=1/C14H17IN4O2/c1-7(2)8-4-11(20-3)9(15)5-...</td>\n",
              "      <td>C=1C(=C(OC2=CN=C(N=C2N)N)C=C(C1OC)I)C(C)C</td>\n",
              "    </tr>\n",
              "    <tr>\n",
              "      <th>1</th>\n",
              "      <td>ABIDZKZAFOTHFB-CCUGXXBONA-N</td>\n",
              "      <td>CHEMBL1271790</td>\n",
              "      <td>3359</td>\n",
              "      <td>A</td>\n",
              "      <td>8.17000</td>\n",
              "      <td>chembl20</td>\n",
              "      <td>674333</td>\n",
              "      <td>9606</td>\n",
              "      <td>HTR3A</td>\n",
              "      <td>2102</td>\n",
              "      <td>InChI=1/C21H28N4O3/c1-13-11-27-12-14(2)25(13)2...</td>\n",
              "      <td>C1C2CCN(C1)C[C@H]2NC(C3=C4N=C(OC4=CC=C3)N5[C@H...</td>\n",
              "    </tr>\n",
              "    <tr>\n",
              "      <th>2</th>\n",
              "      <td>ABSDJNLAUZQHJY-UHFFFAOYNA-N</td>\n",
              "      <td>CHEMBL2205048</td>\n",
              "      <td>3359</td>\n",
              "      <td>A</td>\n",
              "      <td>7.21000</td>\n",
              "      <td>chembl20</td>\n",
              "      <td>880265</td>\n",
              "      <td>9606</td>\n",
              "      <td>HTR3A</td>\n",
              "      <td>2102</td>\n",
              "      <td>InChI=1/C17H20N2OS/c1-20-14-5-4-6-15(13-14)21-...</td>\n",
              "      <td>N1(CCNCC1)C=2C(=CC=CC2)SC=3C=C(C=CC3)OC</td>\n",
              "    </tr>\n",
              "    <tr>\n",
              "      <th>3</th>\n",
              "      <td>ACKJXXOVSOCBPX-PHLAQJRANA-N</td>\n",
              "      <td>11376655</td>\n",
              "      <td>79246</td>\n",
              "      <td>A</td>\n",
              "      <td>8.25181</td>\n",
              "      <td>pubchem</td>\n",
              "      <td>652569</td>\n",
              "      <td>10116</td>\n",
              "      <td>HTR3A</td>\n",
              "      <td>2102</td>\n",
              "      <td>InChI=1/C36H46N6O/c1-26-33(27-14-6-9-17-30(27)...</td>\n",
              "      <td>O=C(NCCCCCCCNC=1C=2CCCCC2N=C3C1C=CC=C3)C4=C(C(...</td>\n",
              "    </tr>\n",
              "    <tr>\n",
              "      <th>4</th>\n",
              "      <td>ACKJXXOVSOCBPX-PHLAQJRANA-N</td>\n",
              "      <td>CHEMBL195241</td>\n",
              "      <td>3359</td>\n",
              "      <td>A</td>\n",
              "      <td>8.25000</td>\n",
              "      <td>chembl20</td>\n",
              "      <td>462123</td>\n",
              "      <td>9606</td>\n",
              "      <td>HTR3A</td>\n",
              "      <td>2102</td>\n",
              "      <td>InChI=1/C36H46N6O/c1-26-33(27-14-6-9-17-30(27)...</td>\n",
              "      <td>C=1(N=C2C=CC=CC2=C(C1C)C(=O)NCCCCCCCNC=3C4=C(C...</td>\n",
              "    </tr>\n",
              "  </tbody>\n",
              "</table>\n",
              "</div>"
            ],
            "text/plain": [
              "                   compound_id  ...                                             SMILES\n",
              "0  AATPYXMXFBBKFO-KARVIEMNNA-N  ...          C=1C(=C(OC2=CN=C(N=C2N)N)C=C(C1OC)I)C(C)C\n",
              "1  ABIDZKZAFOTHFB-CCUGXXBONA-N  ...  C1C2CCN(C1)C[C@H]2NC(C3=C4N=C(OC4=CC=C3)N5[C@H...\n",
              "2  ABSDJNLAUZQHJY-UHFFFAOYNA-N  ...            N1(CCNCC1)C=2C(=CC=CC2)SC=3C=C(C=CC3)OC\n",
              "3  ACKJXXOVSOCBPX-PHLAQJRANA-N  ...  O=C(NCCCCCCCNC=1C=2CCCCC2N=C3C1C=CC=C3)C4=C(C(...\n",
              "4  ACKJXXOVSOCBPX-PHLAQJRANA-N  ...  C=1(N=C2C=CC=CC2=C(C1C)C(=O)NCCCCCCCNC=3C4=C(C...\n",
              "\n",
              "[5 rows x 12 columns]"
            ]
          },
          "metadata": {
            "tags": []
          },
          "execution_count": 10
        }
      ]
    },
    {
      "cell_type": "code",
      "metadata": {
        "id": "cKc3DLTk31-X"
      },
      "source": [
        "# import os\r\n",
        "# working_dir=tmp_dir\r\n",
        "curated_file=ofile"
      ],
      "execution_count": null,
      "outputs": []
    },
    {
      "cell_type": "code",
      "metadata": {
        "colab": {
          "base_uri": "https://localhost:8080/"
        },
        "id": "OvEDhhbvF-bF",
        "outputId": "afc16bd6-6a86-49bf-b249-393f1ae96d73"
      },
      "source": [
        "data['SMILES']"
      ],
      "execution_count": null,
      "outputs": [
        {
          "output_type": "execute_result",
          "data": {
            "text/plain": [
              "0              C=1C(=C(OC2=CN=C(N=C2N)N)C=C(C1OC)I)C(C)C\n",
              "1      C1C2CCN(C1)C[C@H]2NC(C3=C4N=C(OC4=CC=C3)N5[C@H...\n",
              "2                N1(CCNCC1)C=2C(=CC=CC2)SC=3C=C(C=CC3)OC\n",
              "3      O=C(NCCCCCCCNC=1C=2CCCCC2N=C3C1C=CC=C3)C4=C(C(...\n",
              "4      C=1(N=C2C=CC=CC2=C(C1C)C(=O)NCCCCCCCNC=3C4=C(C...\n",
              "                             ...                        \n",
              "644    [C@@H]12N([C@@H](C[C@H](C1)NC(C3=C4C(OC(=N4)N5...\n",
              "645    N=1C(N(C(C2CC(CCC12)C)=O)N)=CCCCN3CCN(CC3)C=4N...\n",
              "646    O=C(NC1C[C@@H]2N([C@H](C1)CCC2)C)C3=C4OC(=NC4=...\n",
              "647    [C@@H]12N([C@@H](C[C@H](C1)NC(C3=C4C(N=C(O4)C=...\n",
              "648    N=1C(N(C(C2CCCCC12)=O)N)=CCCCN3CCN(CC3)C=4N=C5...\n",
              "Name: SMILES, Length: 649, dtype: object"
            ]
          },
          "metadata": {
            "tags": []
          },
          "execution_count": 12
        }
      ]
    },
    {
      "cell_type": "code",
      "metadata": {
        "id": "eQEqrEzKCTos"
      },
      "source": [
        "# Generate SMILES, InChI keys for dataset with curation and structure modules.\r\n",
        "# RDkit modules are used to process the SMILES strings\r\n",
        "data['rdkit_smiles'] = data['SMILES'].apply(curate_data.base_smiles_from_smiles)\r\n",
        "# data['inchi_key'] = data['smiles'].apply(struct_utils.smiles_to_inchi_key)"
      ],
      "execution_count": null,
      "outputs": []
    },
    {
      "cell_type": "code",
      "metadata": {
        "id": "ivNee1o5N_1z",
        "colab": {
          "base_uri": "https://localhost:8080/"
        },
        "outputId": "a0d7d9a7-7469-437c-b49f-41376ded2874"
      },
      "source": [
        "print(data.shape)\r\n",
        "print(data['rdkit_smiles'].value_counts()[0:10])"
      ],
      "execution_count": null,
      "outputs": [
        {
          "output_type": "stream",
          "text": [
            "(649, 13)\n",
            "NCCc1c[nH]c2ccc(O)cc12                                 3\n",
            "C[C@H]1CCCN1CCCOc1ccc(-c2cnn(-c3ccccn3)c(=O)c2)cc1     2\n",
            "COc1cc(N)c(Cl)cc1C(=O)NC1CN2CCC1CC2                    2\n",
            "NC(N)=NC(N)=Nc1cccc(Cl)c1                              2\n",
            "Cc1nnc(O)cc1-c1ccc(OCCCN2CCC[C@H]2C)cc1                2\n",
            "O=C(c1ccc(Cl)o1)N1CC2CNCC2C1                           2\n",
            "COc1cc(N)c(Cl)cc1C(=O)N[C@@H]1CN2CCC1CC2               2\n",
            "Cc1nn(-c2ccccn2)c(=O)cc1-c1ccc(OCCCN2CCC[C@H]2C)cc1    2\n",
            "C[C@@H]1CCCN1CCCOc1ccc(-c2ccc(O)nn2)cc1                2\n",
            "Cc1ccc2oc(N3CCN4CCC3CC4)nc2n1                          2\n",
            "Name: rdkit_smiles, dtype: int64\n"
          ],
          "name": "stdout"
        }
      ]
    },
    {
      "cell_type": "code",
      "metadata": {
        "colab": {
          "base_uri": "https://localhost:8080/"
        },
        "id": "xBOVYa8WOqP8",
        "outputId": "16050e4d-3899-4006-c7c5-cb5074c1c972"
      },
      "source": [
        "# import os\n",
        "# working_dir=tmp_dir\n",
        "# ofile=target_name+'_excape_curated.csv.'+username\n",
        "\n",
        "# column: Response values column\n",
        "column = 'PXC50'\n",
        "\n",
        "# tolerance: Percentage of individual respsonse values allowed to different from \n",
        "# the average to be included in averaging\n",
        "tolerance = 10\n",
        "\n",
        "# list_bad_duplicates: Print structures with bad duplicates\n",
        "list_bad_duplicates = 'Yes'\n",
        "\n",
        "# max_std: Maximum allowed standard deviation for computed average response value\n",
        "# NOTE: In this example, we set this value very high to disable this feature\n",
        "max_std = 1\n",
        "\n",
        "# compound_id: Compound ID column\n",
        "compound_id = 'compound_id'\n",
        "\n",
        "# smiles_col: SMILES column\n",
        "smiles_col = 'rdkit_smiles'\n",
        "\n",
        "# column that will be averaged ; smiles_col; used to find the replicates\n",
        "# \n",
        "\n",
        "curated_df = curate_data.average_and_remove_duplicates(column, tolerance, \n",
        "                                                       list_bad_duplicates, \n",
        "                                                       data, max_std, \n",
        "                                                       compound_id=compound_id, \n",
        "                                                       smiles_col=smiles_col)\n",
        "# curated_file = os.path.join(working_dir, ofile)\n",
        "## discard out of range values\n",
        "curated_df=curated_df[curated_df['VALUE_NUM_mean']>2]\n",
        "curated_df.to_csv(curated_file, index=False)"
      ],
      "execution_count": null,
      "outputs": [
        {
          "output_type": "stream",
          "text": [
            "Bad duplicates removed from dataset\n",
            "Dataframe size (643, 17)\n",
            "List of 'bad' duplicates removed\n",
            "                     compound_id    PXC50  ...   Perc_Var  VALUE_NUM_std\n",
            "36   BSNKYWSMUAGMDO-UHFFFAOYNA-N  6.57025  ...  11.638406       1.223846\n",
            "37   BSNKYWSMUAGMDO-UHFFFAOYNA-N  8.30103  ...  11.638406       1.223846\n",
            "227  JBVRKZZSTULWTO-OAHLLOKONA-N  9.30103  ...  15.893248       1.803851\n",
            "228  JBVRKZZSTULWTO-OAHLLOKONA-N  6.75000  ...  15.893248       1.803851\n",
            "548  WLINCFBAKQHMPZ-OAHLLOKONA-N  8.19382  ...   9.661653       1.020935\n",
            "549  WLINCFBAKQHMPZ-OAHLLOKONA-N  6.75000  ...   9.661653       1.020935\n",
            "\n",
            "[6 rows x 5 columns]\n",
            "\n",
            "Dataset de-duplicated\n",
            "Dataframe size (602, 17)\n",
            "New column created with averaged values:  VALUE_NUM_mean\n"
          ],
          "name": "stdout"
        }
      ]
    },
    {
      "cell_type": "markdown",
      "metadata": {
        "id": "mMacWA8TOqP9"
      },
      "source": [
        "## Note this includes the compounds discarded by measurement variation and out of range values"
      ]
    },
    {
      "cell_type": "code",
      "metadata": {
        "colab": {
          "base_uri": "https://localhost:8080/"
        },
        "id": "RpG6M4Yw_5-Q",
        "outputId": "cc1ecadb-706c-48ce-b17b-0f7b30dbd6d5"
      },
      "source": [
        "curated_df['Remove_BadDuplicate'].value_counts()"
      ],
      "execution_count": null,
      "outputs": [
        {
          "output_type": "execute_result",
          "data": {
            "text/plain": [
              "0    596\n",
              "Name: Remove_BadDuplicate, dtype: int64"
            ]
          },
          "metadata": {
            "tags": []
          },
          "execution_count": 16
        }
      ]
    },
    {
      "cell_type": "code",
      "metadata": {
        "id": "1M8ajRHvOqP9",
        "colab": {
          "base_uri": "https://localhost:8080/",
          "height": 607
        },
        "outputId": "8df2235c-8973-4732-effe-1f14a8ddf622"
      },
      "source": [
        "compound_id='rdkit_smiles'\n",
        "reject=data[~data[compound_id].isin(curated_df[compound_id])]\n",
        "reject"
      ],
      "execution_count": null,
      "outputs": [
        {
          "output_type": "execute_result",
          "data": {
            "text/html": [
              "<div>\n",
              "<style scoped>\n",
              "    .dataframe tbody tr th:only-of-type {\n",
              "        vertical-align: middle;\n",
              "    }\n",
              "\n",
              "    .dataframe tbody tr th {\n",
              "        vertical-align: top;\n",
              "    }\n",
              "\n",
              "    .dataframe thead th {\n",
              "        text-align: right;\n",
              "    }\n",
              "</style>\n",
              "<table border=\"1\" class=\"dataframe\">\n",
              "  <thead>\n",
              "    <tr style=\"text-align: right;\">\n",
              "      <th></th>\n",
              "      <th>compound_id</th>\n",
              "      <th>Original_Entry_ID</th>\n",
              "      <th>Entrez_ID</th>\n",
              "      <th>Activity_Flag</th>\n",
              "      <th>PXC50</th>\n",
              "      <th>DB</th>\n",
              "      <th>Original_Assay_ID</th>\n",
              "      <th>Tax_ID</th>\n",
              "      <th>Gene_Symbol</th>\n",
              "      <th>Ortholog_Group</th>\n",
              "      <th>InChI</th>\n",
              "      <th>SMILES</th>\n",
              "      <th>rdkit_smiles</th>\n",
              "    </tr>\n",
              "  </thead>\n",
              "  <tbody>\n",
              "    <tr>\n",
              "      <th>0</th>\n",
              "      <td>AATPYXMXFBBKFO-KARVIEMNNA-N</td>\n",
              "      <td>CHEMBL526307</td>\n",
              "      <td>3359</td>\n",
              "      <td>N</td>\n",
              "      <td>1.00000</td>\n",
              "      <td>chembl20</td>\n",
              "      <td>565951</td>\n",
              "      <td>9606</td>\n",
              "      <td>HTR3A</td>\n",
              "      <td>2102</td>\n",
              "      <td>InChI=1/C14H17IN4O2/c1-7(2)8-4-11(20-3)9(15)5-...</td>\n",
              "      <td>C=1C(=C(OC2=CN=C(N=C2N)N)C=C(C1OC)I)C(C)C</td>\n",
              "      <td>COc1cc(C(C)C)c(Oc2cnc(N)nc2N)cc1I</td>\n",
              "    </tr>\n",
              "    <tr>\n",
              "      <th>36</th>\n",
              "      <td>BSNKYWSMUAGMDO-UHFFFAOYNA-N</td>\n",
              "      <td>11184481</td>\n",
              "      <td>15561</td>\n",
              "      <td>A</td>\n",
              "      <td>6.57025</td>\n",
              "      <td>pubchem</td>\n",
              "      <td>460741</td>\n",
              "      <td>10090</td>\n",
              "      <td>HTR3A</td>\n",
              "      <td>2102</td>\n",
              "      <td>InChI=1/C14H18N4O/c1-10-2-3-12-13(15-10)16-14(...</td>\n",
              "      <td>O1C(N2C3CCN(CC3)CC2)=NC=4N=C(C=CC14)C</td>\n",
              "      <td>Cc1ccc2oc(N3CCN4CCC3CC4)nc2n1</td>\n",
              "    </tr>\n",
              "    <tr>\n",
              "      <th>37</th>\n",
              "      <td>BSNKYWSMUAGMDO-UHFFFAOYNA-N</td>\n",
              "      <td>11184481</td>\n",
              "      <td>3359</td>\n",
              "      <td>A</td>\n",
              "      <td>8.30103</td>\n",
              "      <td>pubchem</td>\n",
              "      <td>460743</td>\n",
              "      <td>9606</td>\n",
              "      <td>HTR3A</td>\n",
              "      <td>2102</td>\n",
              "      <td>InChI=1/C14H18N4O/c1-10-2-3-12-13(15-10)16-14(...</td>\n",
              "      <td>O1C(N2C3CCN(CC3)CC2)=NC=4N=C(C=CC14)C</td>\n",
              "      <td>Cc1ccc2oc(N3CCN4CCC3CC4)nc2n1</td>\n",
              "    </tr>\n",
              "    <tr>\n",
              "      <th>169</th>\n",
              "      <td>GVOCXQUIZNWEMU-YAQRNVERNA-N</td>\n",
              "      <td>14712103</td>\n",
              "      <td>3359</td>\n",
              "      <td>N</td>\n",
              "      <td>NaN</td>\n",
              "      <td>pubchem</td>\n",
              "      <td>616534</td>\n",
              "      <td>9606</td>\n",
              "      <td>HTR3A</td>\n",
              "      <td>2102</td>\n",
              "      <td>InChI=1/C12H15N3/c1-2-4-11(5-3-1)8-13-7-6-12-9...</td>\n",
              "      <td>N(CCC=1NC=NC1)CC2=CC=CC=C2</td>\n",
              "      <td>c1ccc(CNCCc2cnc[nH]2)cc1</td>\n",
              "    </tr>\n",
              "    <tr>\n",
              "      <th>227</th>\n",
              "      <td>JBVRKZZSTULWTO-OAHLLOKONA-N</td>\n",
              "      <td>69937162</td>\n",
              "      <td>3359</td>\n",
              "      <td>A</td>\n",
              "      <td>9.30103</td>\n",
              "      <td>pubchem</td>\n",
              "      <td>1141224</td>\n",
              "      <td>9606</td>\n",
              "      <td>HTR3A</td>\n",
              "      <td>2102</td>\n",
              "      <td>InChI=1/C17H19ClN4O/c18-13-7-12-9-19-22-6-5-21...</td>\n",
              "      <td>ClC=1C=C2C(=O)N([C@H]3C4CCN(C3)CC4)CCN5N=CC(=C...</td>\n",
              "      <td>O=C1c2cc(Cl)cc3cnn(c23)CCN1[C@@H]1CN2CCC1CC2</td>\n",
              "    </tr>\n",
              "    <tr>\n",
              "      <th>228</th>\n",
              "      <td>JBVRKZZSTULWTO-OAHLLOKONA-N</td>\n",
              "      <td>CHEMBL3261483</td>\n",
              "      <td>15561</td>\n",
              "      <td>A</td>\n",
              "      <td>6.75000</td>\n",
              "      <td>chembl20</td>\n",
              "      <td>1350972</td>\n",
              "      <td>10090</td>\n",
              "      <td>HTR3A</td>\n",
              "      <td>2102</td>\n",
              "      <td>InChI=1/C17H19ClN4O/c18-13-7-12-9-19-22-6-5-21...</td>\n",
              "      <td>C1=C(C=C2C=3N(N=C2)CCN(C(C13)=O)[C@H]4C5CCN(C4...</td>\n",
              "      <td>O=C1c2cc(Cl)cc3cnn(c23)CCN1[C@@H]1CN2CCC1CC2</td>\n",
              "    </tr>\n",
              "    <tr>\n",
              "      <th>321</th>\n",
              "      <td>NECSKBYJMMVETP-UHFFFAOYNA-N</td>\n",
              "      <td>CHEMBL3233402</td>\n",
              "      <td>3359</td>\n",
              "      <td>N</td>\n",
              "      <td>1.29000</td>\n",
              "      <td>chembl20</td>\n",
              "      <td>1337830</td>\n",
              "      <td>9606</td>\n",
              "      <td>HTR3A</td>\n",
              "      <td>2102</td>\n",
              "      <td>InChI=1/C31H36N4O2/c1-32-29(36)31(26-14-6-2-7-...</td>\n",
              "      <td>C1(C(N(C(N1CCCCCN2CCN(CC2)C3=CC=CC=C3)=O)C)=O)...</td>\n",
              "      <td>CN1C(=O)N(CCCCCN2CCN(c3ccccc3)CC2)C(c2ccccc2)(...</td>\n",
              "    </tr>\n",
              "    <tr>\n",
              "      <th>331</th>\n",
              "      <td>NRJJRVIMKKANAW-UHFFFAOYNA-N</td>\n",
              "      <td>1408942</td>\n",
              "      <td>3359</td>\n",
              "      <td>N</td>\n",
              "      <td>NaN</td>\n",
              "      <td>pubchem</td>\n",
              "      <td>616534</td>\n",
              "      <td>9606</td>\n",
              "      <td>HTR3A</td>\n",
              "      <td>2102</td>\n",
              "      <td>InChI=1/C15H18N4/c1-18-7-9-19(10-8-18)15-11-14...</td>\n",
              "      <td>N1(CCN(CC1)C)C=2N=CN=C(C2)C3=CC=CC=C3</td>\n",
              "      <td>CN1CCN(c2cc(-c3ccccc3)ncn2)CC1</td>\n",
              "    </tr>\n",
              "    <tr>\n",
              "      <th>344</th>\n",
              "      <td>OGPREQIZGSIMHW-JLGFQASFNA-N</td>\n",
              "      <td>71459241</td>\n",
              "      <td>3359</td>\n",
              "      <td>N</td>\n",
              "      <td>NaN</td>\n",
              "      <td>pubchem</td>\n",
              "      <td>709378</td>\n",
              "      <td>9606</td>\n",
              "      <td>HTR3A</td>\n",
              "      <td>2102</td>\n",
              "      <td>InChI=1/C16H28N4O/c1-16(2,3)13-12-14(19-18-13)...</td>\n",
              "      <td>O=C(NC1=NNC(C(C)(C)C)=C1)CCCN2CCCCC2</td>\n",
              "      <td>CC(C)(C)c1cc(NC(=O)CCCN2CCCCC2)n[nH]1</td>\n",
              "    </tr>\n",
              "    <tr>\n",
              "      <th>526</th>\n",
              "      <td>VJEBGMIAGKMECI-FNGIMCLKNA-N</td>\n",
              "      <td>76316933</td>\n",
              "      <td>3359</td>\n",
              "      <td>N</td>\n",
              "      <td>NaN</td>\n",
              "      <td>pubchem</td>\n",
              "      <td>643471</td>\n",
              "      <td>9606</td>\n",
              "      <td>HTR3A</td>\n",
              "      <td>2102</td>\n",
              "      <td>InChI=1/C27H32N8O4/c1-33-18-7-6-8-19(33)16-17(...</td>\n",
              "      <td>O=C(NC1C[C@H]2N([C@@H](C1)CCC2)C)C3=NN(C4=C3C=...</td>\n",
              "      <td>CN1[C@H]2CCC[C@@H]1CC(NC(=O)c1nn(CCCCNc3ccc([N...</td>\n",
              "    </tr>\n",
              "    <tr>\n",
              "      <th>548</th>\n",
              "      <td>WLINCFBAKQHMPZ-OAHLLOKONA-N</td>\n",
              "      <td>66898814</td>\n",
              "      <td>3359</td>\n",
              "      <td>A</td>\n",
              "      <td>8.19382</td>\n",
              "      <td>pubchem</td>\n",
              "      <td>1141224</td>\n",
              "      <td>9606</td>\n",
              "      <td>HTR3A</td>\n",
              "      <td>2102</td>\n",
              "      <td>InChI=1/C17H19FN4O/c18-13-7-12-9-19-22-6-5-21(...</td>\n",
              "      <td>FC=1C=C2C(=O)N([C@H]3C4CCN(C3)CC4)CCN5N=CC(=C5...</td>\n",
              "      <td>O=C1c2cc(F)cc3cnn(c23)CCN1[C@@H]1CN2CCC1CC2</td>\n",
              "    </tr>\n",
              "    <tr>\n",
              "      <th>549</th>\n",
              "      <td>WLINCFBAKQHMPZ-OAHLLOKONA-N</td>\n",
              "      <td>CHEMBL3261482</td>\n",
              "      <td>15561</td>\n",
              "      <td>A</td>\n",
              "      <td>6.75000</td>\n",
              "      <td>chembl20</td>\n",
              "      <td>1350972</td>\n",
              "      <td>10090</td>\n",
              "      <td>HTR3A</td>\n",
              "      <td>2102</td>\n",
              "      <td>InChI=1/C17H19FN4O/c18-13-7-12-9-19-22-6-5-21(...</td>\n",
              "      <td>C1=C(C=C2C=3N(N=C2)CCN(C(C13)=O)[C@H]4C5CCN(C4...</td>\n",
              "      <td>O=C1c2cc(F)cc3cnn(c23)CCN1[C@@H]1CN2CCC1CC2</td>\n",
              "    </tr>\n",
              "  </tbody>\n",
              "</table>\n",
              "</div>"
            ],
            "text/plain": [
              "                     compound_id  ...                                       rdkit_smiles\n",
              "0    AATPYXMXFBBKFO-KARVIEMNNA-N  ...                  COc1cc(C(C)C)c(Oc2cnc(N)nc2N)cc1I\n",
              "36   BSNKYWSMUAGMDO-UHFFFAOYNA-N  ...                      Cc1ccc2oc(N3CCN4CCC3CC4)nc2n1\n",
              "37   BSNKYWSMUAGMDO-UHFFFAOYNA-N  ...                      Cc1ccc2oc(N3CCN4CCC3CC4)nc2n1\n",
              "169  GVOCXQUIZNWEMU-YAQRNVERNA-N  ...                           c1ccc(CNCCc2cnc[nH]2)cc1\n",
              "227  JBVRKZZSTULWTO-OAHLLOKONA-N  ...       O=C1c2cc(Cl)cc3cnn(c23)CCN1[C@@H]1CN2CCC1CC2\n",
              "228  JBVRKZZSTULWTO-OAHLLOKONA-N  ...       O=C1c2cc(Cl)cc3cnn(c23)CCN1[C@@H]1CN2CCC1CC2\n",
              "321  NECSKBYJMMVETP-UHFFFAOYNA-N  ...  CN1C(=O)N(CCCCCN2CCN(c3ccccc3)CC2)C(c2ccccc2)(...\n",
              "331  NRJJRVIMKKANAW-UHFFFAOYNA-N  ...                     CN1CCN(c2cc(-c3ccccc3)ncn2)CC1\n",
              "344  OGPREQIZGSIMHW-JLGFQASFNA-N  ...              CC(C)(C)c1cc(NC(=O)CCCN2CCCCC2)n[nH]1\n",
              "526  VJEBGMIAGKMECI-FNGIMCLKNA-N  ...  CN1[C@H]2CCC[C@@H]1CC(NC(=O)c1nn(CCCCNc3ccc([N...\n",
              "548  WLINCFBAKQHMPZ-OAHLLOKONA-N  ...        O=C1c2cc(F)cc3cnn(c23)CCN1[C@@H]1CN2CCC1CC2\n",
              "549  WLINCFBAKQHMPZ-OAHLLOKONA-N  ...        O=C1c2cc(F)cc3cnn(c23)CCN1[C@@H]1CN2CCC1CC2\n",
              "\n",
              "[12 rows x 13 columns]"
            ]
          },
          "metadata": {
            "tags": []
          },
          "execution_count": 17
        }
      ]
    },
    {
      "cell_type": "markdown",
      "metadata": {
        "id": "o4Q30sjCOqP-"
      },
      "source": [
        "## save rejected molecules for further examination"
      ]
    },
    {
      "cell_type": "code",
      "metadata": {
        "id": "fVbKlSYLOqP-",
        "colab": {
          "base_uri": "https://localhost:8080/"
        },
        "outputId": "3832c592-c8cd-4b00-8522-4991a17b680f"
      },
      "source": [
        "print(\"Number of discarded compounds\",reject[compound_id].nunique())\n",
        "# ofile=tmp_dir+target_name+'.reject_check.'+username\n",
        "ofile=target_name+'.reject_check.csv'\n",
        "reject.to_csv(ofile,index=False)"
      ],
      "execution_count": null,
      "outputs": [
        {
          "output_type": "stream",
          "text": [
            "Number of discarded compounds 9\n"
          ],
          "name": "stdout"
        }
      ]
    },
    {
      "cell_type": "code",
      "metadata": {
        "id": "evd3LNUnOqP-",
        "colab": {
          "base_uri": "https://localhost:8080/",
          "height": 301
        },
        "outputId": "c385c4f0-d27b-44a2-cd99-1a83b98ad814"
      },
      "source": [
        "import matplotlib.pyplot as plt\n",
        "import seaborn as sns\n",
        "fig, ax = plt.subplots()\n",
        "before=data[\"PXC50\"]\n",
        "after=curated_df[\"PXC50\"]\n",
        "sns.distplot(before, bins=range(0, 12, 1), ax=ax, kde=False, label='before')\n",
        "sns.distplot(after, bins=range(0, 12, 1), ax=ax, kde=False, label='after')\n",
        "plt.legend()\n",
        "ax.set_xlim([0, 12])"
      ],
      "execution_count": null,
      "outputs": [
        {
          "output_type": "execute_result",
          "data": {
            "text/plain": [
              "(0.0, 12.0)"
            ]
          },
          "metadata": {
            "tags": []
          },
          "execution_count": 19
        },
        {
          "output_type": "display_data",
          "data": {
            "image/png": "[encoded data removed]",
            "text/plain": [
              "<Figure size 432x288 with 1 Axes>"
            ]
          },
          "metadata": {
            "tags": [],
            "needs_background": "light"
          }
        }
      ]
    },
    {
      "cell_type": "code",
      "metadata": {
        "id": "A3Li6LZwOqP_",
        "colab": {
          "base_uri": "https://localhost:8080/",
          "height": 431
        },
        "outputId": "e9783bc5-83df-495c-e74b-0d06af6b84f8"
      },
      "source": [
        "column = 'PXC50'\n",
        "num_bins = 20\n",
        "title = target_name\n",
        "units = 'NM'\n",
        "filepath = \"\"\n",
        "data=curated_df\n",
        "\n",
        "curate_data.summarize_data(column, num_bins, title, units, filepath, data)"
      ],
      "execution_count": null,
      "outputs": [
        {
          "output_type": "stream",
          "text": [
            "Post-processing dataset\n",
            "\n",
            "Total Number of results = 596\n",
            "dataset mean = 6.9555837080536875 NM\n",
            "dataset stdev = 1.4751039669352373 NM\n",
            "dataset max = 10.5 NM\n",
            "dataset min = 3.06 NM\n",
            "\n"
          ],
          "name": "stdout"
        },
        {
          "output_type": "display_data",
          "data": {
            "image/png": "[encoded data removed]",
            "text/plain": [
              "<Figure size 432x288 with 1 Axes>"
            ]
          },
          "metadata": {
            "tags": [],
            "needs_background": "light"
          }
        }
      ]
    }
  ]
}